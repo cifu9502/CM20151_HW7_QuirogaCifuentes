{
 cells: [
  {
   cell type: code,
   execution count: 1,
   metadata: {
    collapsed: false
   },
   outputs: [
    {
     name: stdout,
     output type: stream,
     text: [
      Populating the interactive namespace from numpy and matplotlib\n
     ]
    },
    {
     name: stderr,
     output type: stream,
     text: [
      /home/jngaravito57/Documents/codes/ipython/IPython/kernel/  init  -py:10: UserWarning: The `IPython-kernel` package has been deprecated- You should import from ipython kernel or jupyter client instead-\n,
        warn(\The `IPython-kernel` package has been deprecated- \\n
     ]
    }
   ],
   source: [
    %pylab inline\n,
    import pyfits\n,
    # para instalar pyfits: pip install pyfits
   ]
  },
  {
   cell type: code,
   execution count: 124,
   metadata: {
    collapsed: false
   },
   outputs: [],
   source: [
    sdo = pyfits-open('hmi-m 45s-magnetogram-subregion x1y1-fits')\n,
    #date = loadtxt(\hmi-m 45s-magnetogram-subregion-times-csv\, delimiter=\,\)
   ]
  },
  {
   cell type: code,
   execution count: 33,
   metadata: {
    collapsed: false
   },
   outputs: [
    {
     data: {
      text/plain: [
       SIMPLE  =                    T / Written by IDL:  Wed Apr 15 08:21:09 2015      \n,
       BITPIX  =                 32 / IEEE single precision floating point           \n,
       NAXIS   =                    3 / number of data axes                            \n,
       NAXIS1  =                  398 /Number of positions along axis 1                \n,
       NAXIS2  =                  199 /Number of positions along axis 2                \n,
       NAXIS3  =                  207 /Number of positions along axis 3                \n,
       EXTEND  =                    T / FITS dataset may contain extensions            \n,
       COMMENT   FITS (Flexible Image Transport System) format is defined in 'Astronomy\n,
       COMMENT   and Astrophysics', volume 376, page 359; bibcode: 2001A&A---376--359H \n,
       DATE    = '201005T08:09:16'                                                 \n,
       DATOBS= '201009T23:20:44-90'                                              \n,
       TELESCOP= 'SDO/HMI'                                                             \n,
       INSTRUME= 'HMI FRONT2'                                                          \n,
       WAVELNTH= 6173-0                                                                \n,
       CAMERA  =                    2                                                  \n,
       BUNIT   = 'Gauss'                                                               \n,
       ORIGIN  = 'SDO/JSOSDP'                                                        \n,
       CONTENT = 'MAGNETOGRAM'                                                         \n,
       QUALITY =                    0                                                  \n,
       QUALLEV1=                    0                                                  \n,
       HISTORY Polynomial Coefficients used for Doppler velocity correction: 1-530545e+\n,
       HISTORY 02 5-115161031-19582706 3-56541210                              \n,
       HISTORY CROTA2 corrected by adding0-0702 degrees                              \n,
       COMMENT Drotation: ON; Udistortion: ON; Rcentering: ON; Rsizing: OFF; RS\n,
       COMMENT UNerr=0-5; correction for cosmiray hits                               \n,
       BLD VERS= 512'                                                                \n,
       HCAMID  =                    3                                                  \n,
       SOURCE  = '''hmi-lev1[:#17270357,#17270333,#17270321,#17270393,#17270381,#1727&'\n,
       CONTINUE  '0441&'                                                               \n,
       TOTVALS =             12155197                                                  \n,
       DATAVALS=             12155197                                                  \n,
       MISSVALS=                    0                                                  \n,
       SATVALS =                16702                                                  \n,
       DATAMIN2=4373-531738                                                          \n,
       DATAMAX2= 4373-531738                                                           \n,
       DATAMED2= 0-077605                                                              \n,
       DATAMEA2= 0-594546                                                              \n,
       DATARMS2= 79-274010                                                             \n,
       DATASKE2= 5-718150                                                              \n,
       DATAKUR2= 1277-539429                                                           \n,
       DATAMIN =1761-134888                                                          \n,
       DATAMAX = 1657-542969                                                           \n,
       DATAMEDN= 0-082133                                                              \n,
       DATAMEAN= 0-382997                                                              \n,
       DATARMS = 45-372253                                                             \n,
       DATASKEW=0-447662                                                             \n,
       DATAKURT= 346-078186                                                            \n,
       CTYPE1  = 'HPLTAN'                                                            \n,
       CTYPE2  = 'HPLTAN'                                                            \n,
       CRPIX1  = 2044-556763                                                           \n,
       CRPIX2  = 2044-228271                                                           \n,
       CRVAL1  = 0-000000                                                              \n,
       CRVAL2  = 0-000000                                                              \n,
       CDELT1  = 0-504221                                                              \n,
       CDELT2  = 0-504221                                                              \n,
       CUNIT1  = 'arcsec'                                                              \n,
       CUNIT2  = 'arcsec'                                                              \n,
       CROTA2  = 179-929947                                                            \n,
       CRDER1  = 'nan     '                                                            \n,
       CRDER2  = 'nan     '                                                            \n,
       CSYSER1 = 'nan     '                                                            \n,
       CSYSER2 = 'nan     '                                                            \n,
       WCSNAME = 'Helioprojectivcartesian'                                           \n,
       DSUN OBS= 148522381638-35                                                       \n,
       DSUN REF= 149597870691                                                          \n,
       RSUN REF= 696000000                                                             \n,
       CRLN OBS= 80-226387                                                             \n,
       CRLT OBS=7-249780                                                             \n,
       CAR ROT =                 2107                                                  \n,
       OBS VR  = 3114-102152                                                           \n,
       OBS VW  = 29449-848090                                                          \n,
       OBS VN  =1204-214980                                                          \n,
       RSUN OBS= 966-593933                                                            \n,
       T OBS   = '2011-03-09 23:21:41'                                             \n,
       T REC   = '2011-03-09 23:21:45'                                             \n,
       TRECEPOC= '1993-01-01 00:00:00'                                             \n,
       TRECSTEP= 45-0                                                                  \n,
       TRECUNIT= 'secs'                                                                \n,
       CADENCE = 45-0                                                                  \n,
       DATASIGN=                    1                                                  \n,
       HFLID   =                 1021                                                  \n,
       HCFTID  =                   11                                                  \n,
       QLOOK   =                    0                                                  \n,
       CAL FSN =             14171657                                                  \n,
       LUTQUERY= 'hmi-lookup[14171657][][3][37][56][0][82]'                            \n,
       TSEL    = 23-599867                                                             \n,
       TFRONT  = 31-683842                                                             \n,
       TINTNUM =                    6                                                  \n,
       SINTNUM =                   10                                                  \n,
       DISTCOEF= '/home/jsoc/cvs/Development/JSOC/proj/lev1-5 hmi/apps/--/libs/lev15/' \n,
       ROTCOEF = '/home/jsoc/cvs/Development/JSOC/proj/lev1-5 hmi/apps/--/libs/lev15/' \n,
       ODICOEFF=                    6                                                  \n,
       OROCOEFF=                    4                                                  \n,
       POLCALM =                    1                                                  \n,
       CODEVER0= '$Id: HMI observables-c,v 1-27 2011/03/09 18:24:46 couvidat Exp $'    \n,
       CODEVER1= '$Id: interpol code-c,v 1-1 2010/09/16 20:46:48 couvidat Exp $'       \n,
       CODEVER2= '$Id: interpol code-c,v 1-1 2010/09/16 20:46:48 couvidat Exp $'       \n,
       CODEVER3= '$Id: polcal-c,v 1-4 2010/09/23 20:57:27 schou Exp $'                 \n,
       CALVER64=                   16                                                  \n,
       RECNUM  =              2659755                                                  \n,
       BLANK   =         2147483648                                                  \n,
       BZERO   =                   0-                                                  \n,
       BSCALE  =              1-00000 /                                                \n,
       FLARENUM=                    6 /Flare number in the catalogue                   \n,
       FLAREDAT= '2011/03/09'         /Flare date                                      \n,
       GOESTRTM= '23:13:00'           /GOES Start Time                                 \n,
       GOESTRFR=                   89 /The closet frame on datacube to GOES start time \n,
       GOESEDTM= '23:23:00'           /GOES End time                                   \n,
       GOESEDFR=                  103 /The closet frame on datacube to GOES end time   \n,
       GOESPKTM= '23:22:00'           /GOES Peak time                                  \n,
       GOESPKFR=                  101 /The closet frame on datacube to GOES peak time  \n,
       GOESCLAS= 'X1-5    '           /GOES Flare Class                                \n,
       SUBXPOS1=                   75 /AR min X (arcsec)                               \n,
       SUBXPOS2=                  275 /AR max X (arcsec)                               \n,
       SUBYPOS1=                  217 /AR min Y (arcsec)                               \n,
       SUBYPOS2=                  317 /AR max Y (arcsec)                               \n,
       FLARXCEN=                  196 /Flare X center (arcsec)                         \n,
       FLARYCEN=                  252 /Flare Y center (arcsec)                         \n,
       XBIN    =                    1 /X binning with respect to HMI pixels            \n,
       YBIN    =                    1 /Y binning with respect to HMI pixels            \n,
       PXPURGE =                    1 /Boolean> Purge pixels gt 5000 G               \n,
       O BSCALE=             0-100000 / Original BSCALE Value                          
      ]
     },
     execution count: 33,
     metadata: {},
     output type: execute result
    }
   ],
   source: [
    # informacion del archivo-\n,
    hdulist[0]-header 
   ]
  },
  {
   cell type: code,
   execution count: 126,
   metadata: {
    collapsed: false
   },
   outputs: [],
   source: [
    data = sdo[0]-data
   ]
  },
  {
   cell type: markdown,
   metadata: {},
   source: [
    Para saber como leer bien las columnas, comparo con la informacion del header que dice:\n,
        \n,
    NAXIS1  =                  398 /Number of positions along axis 1                \n,
    NAXIS2  =                  199 /Number of positions along axis 2                \n,
    NAXIS3  =                  207 /Number of positions along axis 3   \n
   ]
  },
  {
   cell type: code,
   execution count: 128,
   metadata: {
    collapsed: false
   },
   outputs: [
    {
     name: stdout,
     output type: stream,
     text: [
      (207, 199, 398)\n
     ]
    }
   ],
   source: [
    print shape(data) 
   ]
  },
  {
   cell type: code,
   execution count: 129,
   metadata: {
    collapsed: false
   },
   outputs: [
    {
     data: {
      text/plain: [
       <matplotlib-text-Text at 0x7f05d5f9b450>
      ]
     },
     execution count: 129,
     metadata: {},
     output type: execute result
    },
    {
     data: {
      image/png: iVBORw0KGgoAAAANSUhEUgAAAYwAAAEPCAYAAABRHfM8AAAABHNCSVQICAgIfAhkiAAAAAlwSFlz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\nAAAASUVORK5CYII=\n,
      text/plain: [
       <matplotlib-figure-Figure at 0x7f05cb74b690>
      ]
     },
     metadata: {},
     output type: display data
    }
   ],
   source: [
    test = data[:,138,241]\n,
    \n,
    x = linspace(0, 397, 398)\n,
    y = linspace(0, 198, 199)\n,
    z = linspace(0, 206, 207)\n,
    \n,
    plot(z, test)\n,
    xlabel(\coordenada temporal sin unidades\)\n,
    ylabel(\Campo Magenitco [Gauss]\)
   ]
  },
  {
   cell type: code,
   execution count: null,
   metadata: {
    collapsed: true
   },
   outputs: [],
   source: []
  }
 ],
 metadata: {
  kernelspec: {
   display name: Python 2,
   language: python,
   name: python2
  },
  language info: {
   codemirror mode: {
    name: ipython,
    version: 2
   },
   file extension: -py,
   mimetype: text/python,
   name: python,
   nbconvert exporter: python,
   pygments lexer: ipython2,
   version: 2-7-8
  }
 },
 nbformat: 4,
 nbformat minor: 0
}
