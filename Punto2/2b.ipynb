{
 "metadata": {
  "name": ""
 },
 "nbformat": 3,
 "nbformat_minor": 0,
 "worksheets": [
  {
   "cells": [
    {
     "cell_type": "code",
     "collapsed": false,
     "input": [
      "from __future__ import division \n",
      "import pyfits\n",
      "import numpy as np\n",
      "import matplotlib.pyplot as plt\n",
      "\n",
      "s = \"hmi.m_45s.magnetogram.subregion_x1y1.fits\"\n",
      "n_iterations = 20000 #this is the number of iterations I want to make"
     ],
     "language": "python",
     "metadata": {},
     "outputs": [],
     "prompt_number": 11
    },
    {
     "cell_type": "code",
     "collapsed": false,
     "input": [
      "pyfits.info(s)\n",
      "#Se obtienen los datose\n",
      "data = pyfits.getdata(s,0)"
     ],
     "language": "python",
     "metadata": {},
     "outputs": [
      {
       "output_type": "stream",
       "stream": "stdout",
       "text": [
        "Filename: hmi.m_45s.magnetogram.subregion_x1y1.fits\n",
        "No.    Name         Type      Cards   Dimensions   Format\n",
        "0    PRIMARY     PrimaryHDU     121   (398, 199, 207)   float32   \n"
       ]
      }
     ],
     "prompt_number": 12
    },
    {
     "cell_type": "code",
     "collapsed": false,
     "input": [
      "#Se lee el archivo tiempos.csv que trae la distribucion de los tiempos\n",
      "s = 'tiempos.csv'\n",
      "infile = open(s, 'r')\n",
      "tiempos = []\n",
      "text = infile.readlines()\n",
      "for x in text[1:]:\n",
      "    #parte el texto x segun ','\n",
      "    a = x.split(',')\n",
      "    a = a[1].split('\\n')\n",
      "    tiempos.append(float(a[0]))\n",
      "tiempos = np.array(tiempos)\n",
      "\n",
      "#Se convierte el tiempo a minutos\n",
      "tiempos = (tiempos-tiempos[0])*525600\n"
     ],
     "language": "python",
     "metadata": {},
     "outputs": [],
     "prompt_number": 13
    },
    {
     "cell_type": "code",
     "collapsed": false,
     "input": [
      "\n",
      "def lin(x_obs, a, b):\n",
      "    return x_obs*b + a\n",
      "\n",
      "def expo(x_obs, c, d, nu , sigma):\n",
      "    if sigma <= 0:\n",
      "        result = -10000\n",
      "    else:    \n",
      "        result = c +  x_obs*d + (1/((sigma*np.pi)**(0.5)))*np.exp(-((x_obs -nu)/sigma)**2 /2)\n",
      "    return result\n",
      "\n",
      "def tan(x_obs, f, g,h,n,t0):\n",
      "    return f+ x_obs*g + h*(1+(2/np.pi)*np.arctan(n*(x_obs -t0)))"
     ],
     "language": "python",
     "metadata": {},
     "outputs": [],
     "prompt_number": 14
    },
    {
     "cell_type": "code",
     "collapsed": false,
     "input": [
      "slin = 'lineal.dat'\n",
      "sexp = 'exponencial.dat'\n",
      "stan = 'tangente.dat'\n",
      "\n",
      "infile1 = open(slin, 'r')\n",
      "textlin = infile1.readlines()\n",
      "\n",
      "infile2 = open(sexp, 'r')\n",
      "textexp = infile2.readlines()\n",
      "    \n",
      "infile3 = open(stan, 'r')\n",
      "texttan = infile3.readlines()"
     ],
     "language": "python",
     "metadata": {},
     "outputs": [],
     "prompt_number": 15
    },
    {
     "cell_type": "code",
     "collapsed": false,
     "input": [
      "fh = open('bestmodels.txt', 'w')\n",
      "\n",
      "#Se itera sobre los 100 puntos y se grafica la recta correspondiente\n",
      "for k in range(1,len(textlin)):\n",
      "    lin1 = textlin[k].split('\\t')\n",
      "    exp1 = textexp[k].split('\\t')\n",
      "    tan1 = texttan[k].split('\\t')\n",
      "    \n",
      "    lin1[-1] = lin1[-1].split('\\n')[0]\n",
      "    exp1[-1] = exp1[-1].split('\\n')[0]\n",
      "    tan1[-1] = tan1[-1].split('\\n')[0]\n",
      "          \n",
      "    lin1[2:]= map(float, lin1[2:])\n",
      "    exp1[2:]= map(float, exp1[2:])\n",
      "    tan1[2:]= map(float, tan1[2:])\n",
      "          \n",
      "    lin1[0:2]= map(int, lin1[0:2])\n",
      "    exp1[0:2]= map(int, exp1[0:2])\n",
      "    tan1[0:2]= map(int, tan1[0:2])\n",
      "    if((lin1[-1] <= exp1[-1])& (lin1[-1]<= tan1[-1]) ):\n",
      "            plt.clf()\n",
      "            plt.plot(tiempos,data[1:,lin1[0],lin1[1]],'b' , tiempos, lin(tiempos, lin1[2], lin1[3]),'r'  )\n",
      "            plt.title('Lineal ('+repr(lin1[0])+','+repr(lin1[1])+')')\n",
      "            plt.ylabel('B')\n",
      "            plt.xlabel('t')\n",
      "            plt.savefig('Lineal ('+repr(lin1[0])+','+repr(lin1[1])+'png')\n",
      "            fh.write(repr(lin1[0])+ ','+ repr(lin1[1]) + '\\t' +'Lineal' +'\\t'+repr(lin1[2])+'\\t'+repr(lin1[3]) + '\\n')\n",
      "                \n",
      "    elif((lin1[-1] >= exp1[-1])& (exp1[-1]<= tan1[-1]) ):\n",
      "            plt.clf()\n",
      "            plt.plot(tiempos,data[1:,lin1[0],lin1[1]],'b' , tiempos, expo(tiempos, exp1[2], exp1[3],exp1[4],exp1[5]),'r'  )\n",
      "            plt.title('Exponencial ('+repr(lin1[0])+','+repr(lin1[1])+')')\n",
      "            plt.ylabel('B')\n",
      "            plt.xlabel('t')\n",
      "            plt.savefig('Exponencial ('+repr(lin1[0])+','+repr(lin1[1])+'png')\n",
      "            fh.write(repr(lin1[0])+ ','+ repr(lin1[1]) + '\\t' +'Exponencial' +'\\t'+repr(exp1[2])+'\\t'+repr(exp1[3])+ '\\t'+repr(exp1[4])+ '\\t'+repr(exp1[5]) + '\\n')\n",
      "    else:\n",
      "            plt.clf()\n",
      "            plt.plot(tiempos,data[1:,lin1[0],lin1[1]],'b' , tiempos, tan(tiempos, tan1[2], tan1[3],tan1[4],tan1[5],tan1[6]),'r'  )\n",
      "            plt.title('Tangente ('+repr(lin1[0])+','+repr(lin1[1])+')')\n",
      "            plt.ylabel('B')\n",
      "            plt.xlabel('t')\n",
      "            plt.savefig('Tangente ('+repr(lin1[0])+','+repr(lin1[1])+'png')\n",
      "            fh.write(repr(lin1[0])+ ','+ repr(lin1[1]) + '\\t' +'Exponencial' +'\\t'+repr(tan1[2])+'\\t'+repr(tan1[3])+ '\\t'+repr(tan1[4])+ '\\t'+repr(tan1[5])+ repr(tan1[6]) + '\\n')\n",
      "\n",
      "fh.close()              \n",
      "          "
     ],
     "language": "python",
     "metadata": {},
     "outputs": [],
     "prompt_number": 23
    },
    {
     "cell_type": "code",
     "collapsed": false,
     "input": [],
     "language": "python",
     "metadata": {},
     "outputs": []
    }
   ],
   "metadata": {}
  }
 ]
}