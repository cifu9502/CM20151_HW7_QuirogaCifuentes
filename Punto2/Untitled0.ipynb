{
 metadata: {
  name: 
 },
 nbformat: 3,
 nbformat minor: 0,
 worksheets: [
  {
   cells: [
    {
     cell type: code,
     collapsed: false,
     input: [
      import pyfits\n,
      import numpy as np\n,
      import matplotlib-pyplot as plt\n,
      s = \hmi-m 45s-magnetogram-subregion x1y1-fits\\n,
      pyfits-info(s)
     ],
     language: python,
     metadata: {},
     outputs: [
      {
       output type: stream,
       stream: stdout,
       text: [
        Filename: hmi-m 45s-magnetogram-subregion x1y1-fits\n,
        No-    Name         Type      Cards   Dimensions   Format\n,
        0    PRIMARY     PrimaryHDU     121   (398, 199, 207)   float32   \n
       ]
      }
     ],
     prompt number: 15
    },
    {
     cell type: code,
     collapsed: false,
     input: [
      headers= pyfits-getheader(s)\n,
      headers\n,
      headers-keys()
     ],
     language: python,
     metadata: {},
     outputs: [
      {
       metadata: {},
       output type: pyout,
       prompt number: 16,
       text: [
        ['SIMPLE',\n,
         'BITPIX',\n,
         'NAXIS',\n,
         'NAXIS1',\n,
         'NAXIS2',\n,
         'NAXIS3',\n,
         'EXTEND',\n,
         'COMMENT',\n,
         'COMMENT',\n,
         'DATE',\n,
         'DATOBS',\n,
         'TELESCOP',\n,
         'INSTRUME',\n,
         'WAVELNTH',\n,
         'CAMERA',\n,
         'BUNIT',\n,
         'ORIGIN',\n,
         'CONTENT',\n,
         'QUALITY',\n,
         'QUALLEV1',\n,
         'HISTORY',\n,
         'HISTORY',\n,
         'HISTORY',\n,
         'COMMENT',\n,
         'COMMENT',\n,
         'BLD VERS',\n,
         'HCAMID',\n,
         'SOURCE',\n,
         'TOTVALS',\n,
         'DATAVALS',\n,
         'MISSVALS',\n,
         'SATVALS',\n,
         'DATAMIN2',\n,
         'DATAMAX2',\n,
         'DATAMED2',\n,
         'DATAMEA2',\n,
         'DATARMS2',\n,
         'DATASKE2',\n,
         'DATAKUR2',\n,
         'DATAMIN',\n,
         'DATAMAX',\n,
         'DATAMEDN',\n,
         'DATAMEAN',\n,
         'DATARMS',\n,
         'DATASKEW',\n,
         'DATAKURT',\n,
         'CTYPE1',\n,
         'CTYPE2',\n,
         'CRPIX1',\n,
         'CRPIX2',\n,
         'CRVAL1',\n,
         'CRVAL2',\n,
         'CDELT1',\n,
         'CDELT2',\n,
         'CUNIT1',\n,
         'CUNIT2',\n,
         'CROTA2',\n,
         'CRDER1',\n,
         'CRDER2',\n,
         'CSYSER1',\n,
         'CSYSER2',\n,
         'WCSNAME',\n,
         'DSUN OBS',\n,
         'DSUN REF',\n,
         'RSUN REF',\n,
         'CRLN OBS',\n,
         'CRLT OBS',\n,
         'CAR ROT',\n,
         'OBS VR',\n,
         'OBS VW',\n,
         'OBS VN',\n,
         'RSUN OBS',\n,
         'T OBS',\n,
         'T REC',\n,
         'TRECEPOC',\n,
         'TRECSTEP',\n,
         'TRECUNIT',\n,
         'CADENCE',\n,
         'DATASIGN',\n,
         'HFLID',\n,
         'HCFTID',\n,
         'QLOOK',\n,
         'CAL FSN',\n,
         'LUTQUERY',\n,
         'TSEL',\n,
         'TFRONT',\n,
         'TINTNUM',\n,
         'SINTNUM',\n,
         'DISTCOEF',\n,
         'ROTCOEF',\n,
         'ODICOEFF',\n,
         'OROCOEFF',\n,
         'POLCALM',\n,
         'CODEVER0',\n,
         'CODEVER1',\n,
         'CODEVER2',\n,
         'CODEVER3',\n,
         'CALVER64',\n,
         'RECNUM',\n,
         'BLANK',\n,
         'BZERO',\n,
         'BSCALE',\n,
         'FLARENUM',\n,
         'FLAREDAT',\n,
         'GOESTRTM',\n,
         'GOESTRFR',\n,
         'GOESEDTM',\n,
         'GOESEDFR',\n,
         'GOESPKTM',\n,
         'GOESPKFR',\n,
         'GOESCLAS',\n,
         'SUBXPOS1',\n,
         'SUBXPOS2',\n,
         'SUBYPOS1',\n,
         'SUBYPOS2',\n,
         'FLARXCEN',\n,
         'FLARYCEN',\n,
         'XBIN',\n,
         'YBIN',\n,
         'PXPURGE',\n,
         'O BSCALE']
       ]
      }
     ],
     prompt number: 16
    },
    {
     cell type: code,
     collapsed: false,
     input: [
      data cube = pyfits-getdata(s,0)\n,
      type(data cube)
     ],
     language: python,
     metadata: {},
     outputs: [
      {
       metadata: {},
       output type: pyout,
       prompt number: 17,
       text: [
        numpy-ndarray
       ]
      }
     ],
     prompt number: 17
    },
    {
     cell type: code,
     collapsed: false,
     input: [
      data cube-shape
     ],
     language: python,
     metadata: {},
     outputs: [
      {
       metadata: {},
       output type: pyout,
       prompt number: 18,
       text: [
        (207, 199, 398)
       ]
      }
     ],
     prompt number: 18
    },
    {
     cell type: code,
     collapsed: false,
     input: [
      test = data cube[:,138,241]\n,
      \n,
      x = np-linspace(0, 397, 398)\n,
      y = np-linspace(0, 198, 199)\n,
      z = np-linspace(0, 206, 207)\n,
      \n,
      plt-plot(z, test)\n,
      plt-xlabel(\coordenada temporal sin unidades\)\n,
      plt-ylabel(\Campo Magenitco [Gauss]\)\n,
      plt-show()\n
     ],
     language: python,
     metadata: {},
     outputs: [],
     prompt number: 20
    },
    {
     cell type: code,
     collapsed: false,
     input: [],
     language: python,
     metadata: {},
     outputs: [],
     prompt number: 1
    },
    {
     cell type: code,
     collapsed: false,
     input: [],
     language: python,
     metadata: {},
     outputs: []
    }
   ],
   metadata: {}
  }
 ]
}