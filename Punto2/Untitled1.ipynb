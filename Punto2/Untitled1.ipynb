{
 "metadata": {
  "name": ""
 },
 "nbformat": 3,
 "nbformat_minor": 0,
 "worksheets": [
  {
   "cells": [
    {
     "cell_type": "code",
     "collapsed": false,
     "input": [
      "import pyfits\n",
      "import numpy as np\n",
      "import matplotlib.pyplot as plt\n",
      "from __future__ import division \n",
      "s = \"hmi.m_45s.magnetogram.subregion_x1y1.fits\"\n",
      "n_iterations = 20000 #this is the number of iterations I want to make\n"
     ],
     "language": "python",
     "metadata": {},
     "outputs": [],
     "prompt_number": 1
    },
    {
     "cell_type": "code",
     "collapsed": false,
     "input": [
      "pyfits.info(s)"
     ],
     "language": "python",
     "metadata": {},
     "outputs": [
      {
       "output_type": "stream",
       "stream": "stdout",
       "text": [
        "Filename: hmi.m_45s.magnetogram.subregion_x1y1.fits\n",
        "No.    Name         Type      Cards   Dimensions   Format\n",
        "0    PRIMARY     PrimaryHDU     121   (398, 199, 207)   float32   \n"
       ]
      }
     ],
     "prompt_number": 2
    },
    {
     "cell_type": "code",
     "collapsed": false,
     "input": [
      " #Se obtienen los datose\n",
      "data = pyfits.getdata(s,0)\n",
      "data.shape"
     ],
     "language": "python",
     "metadata": {},
     "outputs": [
      {
       "metadata": {},
       "output_type": "pyout",
       "prompt_number": 3,
       "text": [
        "(207, 199, 398)"
       ]
      }
     ],
     "prompt_number": 3
    },
    {
     "cell_type": "code",
     "collapsed": false,
     "input": [
      "#Se grafica la linea de tiempo\n",
      "test = data[:,138,241]\n",
      "x = np.linspace(0, 397, 398)\n",
      "y = np.linspace(0, 198, 199)\n",
      "z = np.linspace(0, 206, 207)\n",
      "plt.plot(z, test)\n",
      "plt.show()"
     ],
     "language": "python",
     "metadata": {},
     "outputs": [],
     "prompt_number": 4
    },
    {
     "cell_type": "code",
     "collapsed": false,
     "input": [
      "#Se lee el archivo tiempos.csv que trae la distribucion de los tiempos\n",
      "s = 'tiempos.csv'\n",
      "infile = open(s, 'r')\n",
      "tiempos = []\n",
      "text = infile.readlines()\n",
      "for x in text[1:]:\n",
      "    #parte el texto x segun ','\n",
      "    a = x.split(',')\n",
      "    a = a[1].split('\\n')\n",
      "    tiempos.append(float(a[0]))\n",
      "tiempos = np.array(tiempos)\n",
      "\n",
      "#Se convierte el tiempo a minutos\n",
      "tiempos = (tiempos-tiempos[0])*525600\n",
      "\n"
     ],
     "language": "python",
     "metadata": {},
     "outputs": [],
     "prompt_number": 5
    },
    {
     "cell_type": "code",
     "collapsed": false,
     "input": [
      "plt.plot(tiempos,data[1:,1,1] )\n",
      "\n",
      "plt.show()"
     ],
     "language": "python",
     "metadata": {},
     "outputs": [],
     "prompt_number": 6
    },
    {
     "cell_type": "code",
     "collapsed": false,
     "input": [
      "\n",
      "def likelihood(y_obs, y_model):\n",
      "    chi_squared = (1.0/2.0)*sum((y_obs-y_model)**2)*10**(-5)\n",
      "    return np.exp(-chi_squared)"
     ],
     "language": "python",
     "metadata": {},
     "outputs": [],
     "prompt_number": 7
    },
    {
     "cell_type": "code",
     "collapsed": false,
     "input": [
      "def lin(x_obs, a, b):\n",
      "    return x_obs*a + b"
     ],
     "language": "python",
     "metadata": {},
     "outputs": [],
     "prompt_number": 8
    },
    {
     "cell_type": "code",
     "collapsed": false,
     "input": [
      "def expo(x_obs, c, d, nu , sigma):\n",
      "    return c +  x_obs*d + (1/(sigma*np.pi**(0.5)))*np.exp(-((x_obs -nu)/sigma)**2 /2)"
     ],
     "language": "python",
     "metadata": {},
     "outputs": [],
     "prompt_number": 9
    },
    {
     "cell_type": "code",
     "collapsed": false,
     "input": [
      "def tan(x_obs, f, g,h,n,t0):\n",
      "    return f+ x_obs*g + h*(1+(2/np.pi)*np.arctan(n*(x_obs -t0)))"
     ],
     "language": "python",
     "metadata": {},
     "outputs": [],
     "prompt_number": 10
    },
    {
     "cell_type": "code",
     "collapsed": false,
     "input": [],
     "language": "python",
     "metadata": {},
     "outputs": [],
     "prompt_number": 10
    },
    {
     "cell_type": "code",
     "collapsed": false,
     "input": [
      "def findLin(y_obs):\n",
      "    a_walk = np.empty((0)) #this is an empty list to keep all the steps\n",
      "    b_walk = np.empty((0))\n",
      "    l_walk = np.empty((0))\n",
      "    \n",
      "    a_walk = np.append(a_walk, np.random.random()*0.1 -0.05)\n",
      "    b_walk = np.append(b_walk, np.random.random()*60 -30)\n",
      "    \n",
      "    y_init = lin(tiempos, a_walk[0], b_walk[0])\n",
      "    l_walk = np.append(l_walk, likelihood(y_obs, y_init))\n",
      "    i = 0\n",
      "    \n",
      "    for i in range(n_iterations):\n",
      "        a_prime = np.random.normal(a_walk[i], 0.1) \n",
      "        b_prime = np.random.normal(b_walk[i], 0.1)\n",
      "    \n",
      "        y_init = lin(tiempos, a_walk[i], b_walk[i])\n",
      "        y_prime = lin(tiempos, a_prime, b_prime)\n",
      "        \n",
      "        l_prime = likelihood(y_obs, y_prime)\n",
      "        l_init = likelihood(y_obs, y_init)\n",
      "        \n",
      "        alpha = l_prime/l_init\n",
      "        if(alpha>=1.0):\n",
      "            a_walk  = np.append(a_walk,a_prime)\n",
      "            b_walk  = np.append(b_walk,b_prime)\n",
      "            l_walk = np.append(l_walk, l_prime)\n",
      "        else:\n",
      "            beta = np.random.random()\n",
      "            if(beta<=alpha):\n",
      "                a_walk = np.append(a_walk,a_prime)\n",
      "                b_walk = np.append(b_walk,b_prime)\n",
      "                l_walk = np.append(l_walk, l_prime)\n",
      "            else:\n",
      "                a_walk = np.append(a_walk,a_walk[i])\n",
      "                b_walk = np.append(b_walk,b_walk[i])\n",
      "                l_walk = np.append(l_walk, l_init)\n",
      "                \n",
      "    return a_walk, b_walk , l_walk\n"
     ],
     "language": "python",
     "metadata": {},
     "outputs": [],
     "prompt_number": 11
    },
    {
     "cell_type": "code",
     "collapsed": false,
     "input": [
      "def hallarMins(y_obs):\n",
      "    a_walk, b_walk, l_walk = findLin(y_obs)\n",
      "    \n",
      "    #plt.scatter(a_walk, b_walk)    \n",
      "    #plt.show()\n",
      "    \n",
      "    #plt.scatter(a_walk, -np.log(l_walk))\n",
      "    #plt.show()\n",
      "    \n",
      "    max_likelihood = np.argmax(l_walk)\n",
      "    best_l = l_walk[max_likelihood]\n",
      "    best_a = a_walk[max_likelihood]\n",
      "    best_b = b_walk[max_likelihood]\n",
      "    \n",
      "    #plt.plot(tiempos,y_obs,'b' , tiempos, lin(tiempos, best_a, best_b),'r'  )\n",
      "    #plt.show()\n",
      "    return best_a, best_b, best_l"
     ],
     "language": "python",
     "metadata": {},
     "outputs": [],
     "prompt_number": 22
    },
    {
     "cell_type": "code",
     "collapsed": false,
     "input": [
      "hallarMins(data[1:,1,7])"
     ],
     "language": "python",
     "metadata": {},
     "outputs": [
      {
       "metadata": {},
       "output_type": "pyout",
       "prompt_number": 23,
       "text": [
        "(0.17135558138082879, 26.051080748281002, 0.91743648145530265)"
       ]
      }
     ],
     "prompt_number": 23
    },
    {
     "cell_type": "code",
     "collapsed": false,
     "input": [
      "fh = open('lineal.dat', 'w')\n",
      "fh.write('X'+ '\\t'+ 'Y' + '\\t' + ' a'+'\\t'+' b'+'\\t'+ 'M\u00e1ximo likelihood' + '\\n')\n",
      "for i in range(0,1):\n",
      "    for j in range(0,7):\n",
      "        besta, bestb, bestl = hallarMins(data[1:,i,j])\n",
      "        fh.write(repr(i)+ '\\t'+ repr(j) + '\\t' + repr(besta)+'\\t'+repr(bestb)+'\\t'+repr(bestl) + '\\n')\n",
      "fh.close()       "
     ],
     "language": "python",
     "metadata": {},
     "outputs": [],
     "prompt_number": 26
    },
    {
     "cell_type": "code",
     "collapsed": false,
     "input": [
      "data[1:,0,0]"
     ],
     "language": "python",
     "metadata": {},
     "outputs": [
      {
       "metadata": {},
       "output_type": "pyout",
       "prompt_number": 509,
       "text": [
        "array([ 31.40544128,  29.29996681,  31.89319229,  37.62744522,\n",
        "        39.11608505,  39.77944565,  42.68395615,  42.43448257,\n",
        "        33.37034225,  34.82963181,  29.30163956,  28.07980919,\n",
        "        24.20461845,  25.04620361,  24.05695915,  26.99831009,\n",
        "        33.80981064,  31.2993927 ,  35.20038986,  29.06315994,\n",
        "        29.1958065 ,  28.03933525,  31.15479851,  25.79553223,\n",
        "        27.56363297,  28.77864456,  28.76651955,  27.16748428,\n",
        "        27.14188576,  27.80806541,  29.57960892,  29.26481056,\n",
        "        26.84011269,  26.35970879,  27.99455261,  27.60287285,\n",
        "        23.42879295,  26.29426384,  26.96468925,  28.86575317,\n",
        "        28.63262749,  30.08350182,  30.53956032,  29.1527195 ,\n",
        "        26.25791359,  24.7249794 ,  24.89935112,  23.42925453,\n",
        "        26.14736938,  25.16499329,  24.99666977,  25.37229729,\n",
        "        24.18093681,  25.3368969 ,  23.81818962,  22.33296394,\n",
        "        23.15502548,  23.19563103,  21.2907238 ,  21.67014122,\n",
        "        21.45553017,  22.52215195,  22.19164848,  22.36159515,\n",
        "        20.64274216,  19.79035759,  19.10666466,  17.75435448,\n",
        "        17.07820511,  18.36770439,  17.25475883,  16.30493927,\n",
        "        17.91280365,  16.56110001,  17.7834301 ,  16.44693756,\n",
        "        16.16770744,  15.54036617,  15.85498333,  16.10603905,\n",
        "        16.14327812,  16.06569099,  16.4798336 ,  15.96640015,\n",
        "        16.21120834,  15.64988613,  14.91990089,  13.98741055,\n",
        "        13.510849  ,  13.45991707,  11.96750546,  12.75643158,\n",
        "        12.58512783,  11.29889965,  12.36389065,  12.78444195,\n",
        "        12.57174873,  11.17149639,  11.25168705,  11.4087944 ,\n",
        "         9.59664345,   9.30141544,   8.24132824,   7.54869318,\n",
        "         8.14380646,   9.21154594,   9.87551022,   9.94982815,\n",
        "         9.96647167,  10.61337566,   9.09834671,   8.60673809,\n",
        "         8.32664013,   8.59391308,   8.79785919,   9.40285015,\n",
        "         8.29655647,   9.06612587,   8.61854458,   9.06913948,\n",
        "         9.90136337,   9.5230732 ,  10.76995659,  10.24121284,\n",
        "         9.29483032,   9.32864285,   9.27258301,  10.52356911,\n",
        "        10.25062847,  10.07830811,  10.24444389,  11.36892033,\n",
        "        10.64422703,   9.40027809,   9.38817692,   9.53320026,\n",
        "        10.43159389,  10.30508327,   9.51569176,   9.83079624,\n",
        "         9.24703121,   9.93831158,   8.90482998,  10.45208168,\n",
        "        10.98816204,   9.89161682,  10.51464558,   8.61135864,\n",
        "         8.40810394,   9.69146538,   9.6792593 ,  10.28761387,\n",
        "         9.89812279,   9.74688244,   9.66878414,   9.69257545,\n",
        "        10.28741455,  10.88306236,  12.27251816,  12.67550278,\n",
        "        11.21517849,  11.45706272,  12.56776428,  11.96423626,\n",
        "         9.51679134,   9.5752821 ,   9.46723843,  10.42712116,\n",
        "         9.09120369,   9.45407486,   9.70444202,   9.88419247,\n",
        "        10.38708019,   9.25954819,   9.25821972,  11.56840897,\n",
        "        11.0989933 ,  10.61299324,   9.51701832,  10.43207455,\n",
        "         9.91043663,  10.68098354,  10.45972633,  11.44365788,\n",
        "        12.45212841,  15.74179363,  30.09676933,  42.85163879,\n",
        "        57.61981201,  53.53033066,  58.3018074 ,  58.54787064,\n",
        "        53.20691681,  50.49949265,  51.986866  ,  52.92615509,\n",
        "        45.52985001,  41.40843201,  40.04992676,  42.14935303,\n",
        "        34.42630386,  35.86493683,  36.01401138,  34.61887741,\n",
        "        29.21394157,  30.50327873], dtype=float32)"
       ]
      }
     ],
     "prompt_number": 509
    },
    {
     "cell_type": "code",
     "collapsed": false,
     "input": [
      "ar = np.array([1,2,0,9,89,4567])"
     ],
     "language": "python",
     "metadata": {},
     "outputs": [],
     "prompt_number": 524
    },
    {
     "cell_type": "code",
     "collapsed": false,
     "input": [
      "np.delete(ar,-1)"
     ],
     "language": "python",
     "metadata": {},
     "outputs": [
      {
       "metadata": {},
       "output_type": "pyout",
       "prompt_number": 525,
       "text": [
        "array([ 1,  2,  0,  9, 89])"
       ]
      }
     ],
     "prompt_number": 525
    },
    {
     "cell_type": "code",
     "collapsed": false,
     "input": [
      "ar"
     ],
     "language": "python",
     "metadata": {},
     "outputs": [
      {
       "metadata": {},
       "output_type": "pyout",
       "prompt_number": 519,
       "text": [
        "array([1, 2])"
       ]
      }
     ],
     "prompt_number": 519
    },
    {
     "cell_type": "code",
     "collapsed": false,
     "input": [],
     "language": "python",
     "metadata": {},
     "outputs": []
    }
   ],
   "metadata": {}
  }
 ]
}