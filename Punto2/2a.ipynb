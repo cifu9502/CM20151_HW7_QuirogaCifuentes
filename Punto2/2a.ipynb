{
 "metadata": {
  "name": ""
 },
 "nbformat": 3,
 "nbformat_minor": 0,
 "worksheets": [
  {
   "cells": [
    {
     "cell_type": "code",
     "collapsed": false,
     "input": [
      "#Para entender el codigo comleto de todo el punto 2 lo mejor es leer el makefile que da una vision global de lo que hace \n",
      "#cada parte del programa\n",
      "import pyfits\n",
      "import numpy as np\n",
      "import matplotlib.pyplot as plt\n",
      "from __future__ import division \n",
      "s = \"hmi.m_45s.magnetogram.subregion_x1y1.fits\"\n",
      "n_iterations = 20000 #this is the number of iterations I want to make\n"
     ],
     "language": "python",
     "metadata": {},
     "outputs": [],
     "prompt_number": 1
    },
    {
     "cell_type": "code",
     "collapsed": false,
     "input": [
      "pyfits.info(s)"
     ],
     "language": "python",
     "metadata": {},
     "outputs": [
      {
       "output_type": "stream",
       "stream": "stdout",
       "text": [
        "Filename: hmi.m_45s.magnetogram.subregion_x1y1.fits\n",
        "No.    Name         Type      Cards   Dimensions   Format\n",
        "0    PRIMARY     PrimaryHDU     121   (398, 199, 207)   float32   \n"
       ]
      }
     ],
     "prompt_number": 2
    },
    {
     "cell_type": "code",
     "collapsed": false,
     "input": [
      " #Se obtienen los datose\n",
      "data = pyfits.getdata(s,0)\n",
      "data.shape"
     ],
     "language": "python",
     "metadata": {},
     "outputs": [
      {
       "metadata": {},
       "output_type": "pyout",
       "prompt_number": 3,
       "text": [
        "(207, 199, 398)"
       ]
      }
     ],
     "prompt_number": 3
    },
    {
     "cell_type": "code",
     "collapsed": false,
     "input": [
      "#Se grafica la linea de tiempo\n",
      "test = data[:,138,241]\n",
      "x = np.linspace(0, 397, 398)\n",
      "y = np.linspace(0, 198, 199)\n",
      "z = np.linspace(0, 206, 207)\n",
      "plt.plot(z, test)\n",
      "plt.show()"
     ],
     "language": "python",
     "metadata": {},
     "outputs": [],
     "prompt_number": 4
    },
    {
     "cell_type": "code",
     "collapsed": false,
     "input": [
      "#Se lee el archivo tiempos.csv que trae la distribucion de los tiempos\n",
      "s = 'tiempos.csv'\n",
      "infile = open(s, 'r')\n",
      "tiempos = []\n",
      "text = infile.readlines()\n",
      "for x in text[1:]:\n",
      "    #parte el texto x segun ','\n",
      "    a = x.split(',')\n",
      "    a = a[1].split('\\n')\n",
      "    tiempos.append(float(a[0]))\n",
      "tiempos = np.array(tiempos)\n",
      "\n",
      "#Se convierte el tiempo a minutos\n",
      "tiempos = (tiempos-tiempos[0])*525600\n",
      "\n"
     ],
     "language": "python",
     "metadata": {},
     "outputs": [],
     "prompt_number": 5
    },
    {
     "cell_type": "code",
     "collapsed": false,
     "input": [
      "plt.plot(tiempos,data[1:,3,3])\n",
      "\n",
      "plt.show()"
     ],
     "language": "python",
     "metadata": {},
     "outputs": [],
     "prompt_number": 6
    },
    {
     "cell_type": "code",
     "collapsed": false,
     "input": [
      "\n",
      "def likelihood(y_obs, y_model):\n",
      "    chi_squared = (1.0/2.0)*sum((y_obs-y_model)**2)*10**(-5)\n",
      "    return np.exp(-chi_squared)"
     ],
     "language": "python",
     "metadata": {},
     "outputs": [],
     "prompt_number": 7
    },
    {
     "cell_type": "code",
     "collapsed": false,
     "input": [
      "\n",
      "def lin(x_obs, a, b):\n",
      "    return x_obs*b + a"
     ],
     "language": "python",
     "metadata": {},
     "outputs": [],
     "prompt_number": 8
    },
    {
     "cell_type": "code",
     "collapsed": false,
     "input": [
      "def expo(x_obs, c, d, nu , sigma):\n",
      "    result = c +  x_obs*d + (1/(sigma*(np.pi)**(0.5)))*np.exp(-((x_obs -nu)/sigma)**2 /2)\n",
      "    return result"
     ],
     "language": "python",
     "metadata": {},
     "outputs": [],
     "prompt_number": 23
    },
    {
     "cell_type": "code",
     "collapsed": false,
     "input": [
      "def tan(x_obs, f, g,h,n,t0):\n",
      "    return f+ x_obs*g + h*(1+(2/np.pi)*np.arctan(n*(x_obs -t0)))"
     ],
     "language": "python",
     "metadata": {},
     "outputs": [],
     "prompt_number": 10
    },
    {
     "cell_type": "code",
     "collapsed": false,
     "input": [
      "#El siguiente codigo realiza el proceso de cadenas de markov para encontrar el mejor ajuste al caso lineal.\n",
      "#El codigo usado es parecido al dado como muestra en clase , a excepcion de unas peque\u00f1as modificaciones\n",
      "\n",
      "#input y_obs -- datos del punto a observar\n",
      "def findLin(y_obs):\n",
      "    a_walk = np.empty((0)) #this is an empty list to keep all the steps\n",
      "    b_walk = np.empty((0))\n",
      "    l_walk = np.empty((0))\n",
      "    \n",
      "    a_walk = np.append(a_walk, np.random.random()*100 -50)\n",
      "    b_walk = np.append(b_walk, np.random.random()*1 -0.5)\n",
      "    \n",
      "    y_init = lin(tiempos, a_walk[0], b_walk[0])\n",
      "    l_walk = np.append(l_walk, likelihood(y_obs, y_init))\n",
      "    \n",
      "    \n",
      "    for i in range(n_iterations):\n",
      "        a_prime = np.random.normal(a_walk[-1], 1) \n",
      "        b_prime = np.random.normal(b_walk[-1], 0.1)\n",
      "    \n",
      "        y_init = lin(tiempos, a_walk[-1], b_walk[-1])\n",
      "        y_prime = lin(tiempos, a_prime, b_prime)\n",
      "        \n",
      "        l_prime = likelihood(y_obs, y_prime)\n",
      "        l_init = likelihood(y_obs, y_init)\n",
      "        \n",
      "        alpha = l_prime/l_init\n",
      "        if(alpha>=1.0):\n",
      "            a_walk  = np.append(a_walk,a_prime)\n",
      "            b_walk  = np.append(b_walk,b_prime)\n",
      "            l_walk = np.append(l_walk, l_prime)\n",
      "            #Eliminamos los datos que ya no necesitamos para mejorar la efectividad. Note que en este caso, el likelihood\n",
      "            #del anterior es menor que el del siguiente paso por lo que podemos e\n",
      "            a_walk = np.delete(a_walk, -2)\n",
      "            b_walk = np.delete(b_walk, -2)\n",
      "            l_walk = np.delete(l_walk, -2)\n",
      "            \n",
      "        else:\n",
      "            beta = np.random.random()\n",
      "            if(beta<=alpha):\n",
      "                a_walk = np.append(a_walk,a_prime)\n",
      "                b_walk = np.append(b_walk,b_prime)\n",
      "                l_walk = np.append(l_walk, l_prime)\n",
      "                \n",
      "    return a_walk, b_walk , l_walk\n"
     ],
     "language": "python",
     "metadata": {},
     "outputs": [],
     "prompt_number": 11
    },
    {
     "cell_type": "code",
     "collapsed": false,
     "input": [
      "\n",
      "#Los comentarios que se muestran abajo son codigos usados para graficar los datos y verificar su veracidad\n",
      "\n",
      "#La siguiente funcion invoca findLin y halla el mejor a y b.\n",
      "#Recibe los datos del punto a observar\n",
      "def hallarMins(y_obs):\n",
      "    a_walk, b_walk, l_walk = findLin(y_obs)\n",
      "    \n",
      "    #plt.scatter(a_walk, b_walk)    \n",
      "    #plt.show()\n",
      "    \n",
      "    #plt.scatter(a_walk, -np.log(l_walk))\n",
      "    #plt.show()\n",
      "    \n",
      "    max_likelihood = np.argmax(l_walk)\n",
      "    best_l = l_walk[max_likelihood]\n",
      "    best_a = a_walk[max_likelihood]\n",
      "    best_b = b_walk[max_likelihood]\n",
      "    \n",
      "    #plt.plot(tiempos,y_obs,'b' , tiempos, lin(tiempos, best_a, best_b),'r'  )\n",
      "    #plt.show()\n",
      "    return best_a, best_b, best_l"
     ],
     "language": "python",
     "metadata": {},
     "outputs": [],
     "prompt_number": 12
    },
    {
     "cell_type": "code",
     "collapsed": false,
     "input": [
      "hallarMins(data[1:,3,3])"
     ],
     "language": "python",
     "metadata": {},
     "outputs": [
      {
       "metadata": {},
       "output_type": "pyout",
       "prompt_number": 13,
       "text": [
        "(39.894260663995432, -0.057545809589882806, 0.95617540086056807)"
       ]
      }
     ],
     "prompt_number": 13
    },
    {
     "cell_type": "code",
     "collapsed": false,
     "input": [
      "fh = open('lineal.dat', 'w')\n",
      "fh.write('X'+ '\\t'+ 'Y' + '\\t' + ' a'+'\\t'+' b'+'\\t'+ 'Likelihood' + '\\n')\n",
      "for i in range(0,10):\n",
      "    for j in range(0,10):\n",
      "        besta, bestb, bestl = hallarMins(data[1:,i,j])\n",
      "        fh.write(repr(i)+ '\\t'+ repr(j) + '\\t' + repr(besta)+'\\t'+repr(bestb)+'\\t'+repr(bestl) + '\\n')\n",
      "fh.close()       "
     ],
     "language": "python",
     "metadata": {},
     "outputs": [
      {
       "ename": "KeyboardInterrupt",
       "evalue": "",
       "output_type": "pyerr",
       "traceback": [
        "\u001b[0;31m---------------------------------------------------------------------------\u001b[0m\n\u001b[0;31mKeyboardInterrupt\u001b[0m                         Traceback (most recent call last)",
        "\u001b[0;32m<ipython-input-14-d0bc528784f1>\u001b[0m in \u001b[0;36m<module>\u001b[0;34m()\u001b[0m\n\u001b[1;32m      3\u001b[0m \u001b[0;32mfor\u001b[0m \u001b[0mi\u001b[0m \u001b[0;32min\u001b[0m \u001b[0mrange\u001b[0m\u001b[0;34m(\u001b[0m\u001b[0;36m0\u001b[0m\u001b[0;34m,\u001b[0m\u001b[0;36m10\u001b[0m\u001b[0;34m)\u001b[0m\u001b[0;34m:\u001b[0m\u001b[0;34m\u001b[0m\u001b[0m\n\u001b[1;32m      4\u001b[0m     \u001b[0;32mfor\u001b[0m \u001b[0mj\u001b[0m \u001b[0;32min\u001b[0m \u001b[0mrange\u001b[0m\u001b[0;34m(\u001b[0m\u001b[0;36m0\u001b[0m\u001b[0;34m,\u001b[0m\u001b[0;36m10\u001b[0m\u001b[0;34m)\u001b[0m\u001b[0;34m:\u001b[0m\u001b[0;34m\u001b[0m\u001b[0m\n\u001b[0;32m----> 5\u001b[0;31m         \u001b[0mbesta\u001b[0m\u001b[0;34m,\u001b[0m \u001b[0mbestb\u001b[0m\u001b[0;34m,\u001b[0m \u001b[0mbestl\u001b[0m \u001b[0;34m=\u001b[0m \u001b[0mhallarMins\u001b[0m\u001b[0;34m(\u001b[0m\u001b[0mdata\u001b[0m\u001b[0;34m[\u001b[0m\u001b[0;36m1\u001b[0m\u001b[0;34m:\u001b[0m\u001b[0;34m,\u001b[0m\u001b[0mi\u001b[0m\u001b[0;34m,\u001b[0m\u001b[0mj\u001b[0m\u001b[0;34m]\u001b[0m\u001b[0;34m)\u001b[0m\u001b[0;34m\u001b[0m\u001b[0m\n\u001b[0m\u001b[1;32m      6\u001b[0m         \u001b[0mfh\u001b[0m\u001b[0;34m.\u001b[0m\u001b[0mwrite\u001b[0m\u001b[0;34m(\u001b[0m\u001b[0mrepr\u001b[0m\u001b[0;34m(\u001b[0m\u001b[0mi\u001b[0m\u001b[0;34m)\u001b[0m\u001b[0;34m+\u001b[0m \u001b[0;34m'\\t'\u001b[0m\u001b[0;34m+\u001b[0m \u001b[0mrepr\u001b[0m\u001b[0;34m(\u001b[0m\u001b[0mj\u001b[0m\u001b[0;34m)\u001b[0m \u001b[0;34m+\u001b[0m \u001b[0;34m'\\t'\u001b[0m \u001b[0;34m+\u001b[0m \u001b[0mrepr\u001b[0m\u001b[0;34m(\u001b[0m\u001b[0mbesta\u001b[0m\u001b[0;34m)\u001b[0m\u001b[0;34m+\u001b[0m\u001b[0;34m'\\t'\u001b[0m\u001b[0;34m+\u001b[0m\u001b[0mrepr\u001b[0m\u001b[0;34m(\u001b[0m\u001b[0mbestb\u001b[0m\u001b[0;34m)\u001b[0m\u001b[0;34m+\u001b[0m\u001b[0;34m'\\t'\u001b[0m\u001b[0;34m+\u001b[0m\u001b[0mrepr\u001b[0m\u001b[0;34m(\u001b[0m\u001b[0mbestl\u001b[0m\u001b[0;34m)\u001b[0m \u001b[0;34m+\u001b[0m \u001b[0;34m'\\n'\u001b[0m\u001b[0;34m)\u001b[0m\u001b[0;34m\u001b[0m\u001b[0m\n\u001b[1;32m      7\u001b[0m \u001b[0mfh\u001b[0m\u001b[0;34m.\u001b[0m\u001b[0mclose\u001b[0m\u001b[0;34m(\u001b[0m\u001b[0;34m)\u001b[0m\u001b[0;34m\u001b[0m\u001b[0m\n",
        "\u001b[0;32m<ipython-input-12-e8098952034d>\u001b[0m in \u001b[0;36mhallarMins\u001b[0;34m(y_obs)\u001b[0m\n\u001b[1;32m      5\u001b[0m \u001b[0;31m#Recibe los datos del punto a observar\u001b[0m\u001b[0;34m\u001b[0m\u001b[0;34m\u001b[0m\u001b[0m\n\u001b[1;32m      6\u001b[0m \u001b[0;32mdef\u001b[0m \u001b[0mhallarMins\u001b[0m\u001b[0;34m(\u001b[0m\u001b[0my_obs\u001b[0m\u001b[0;34m)\u001b[0m\u001b[0;34m:\u001b[0m\u001b[0;34m\u001b[0m\u001b[0m\n\u001b[0;32m----> 7\u001b[0;31m     \u001b[0ma_walk\u001b[0m\u001b[0;34m,\u001b[0m \u001b[0mb_walk\u001b[0m\u001b[0;34m,\u001b[0m \u001b[0ml_walk\u001b[0m \u001b[0;34m=\u001b[0m \u001b[0mfindLin\u001b[0m\u001b[0;34m(\u001b[0m\u001b[0my_obs\u001b[0m\u001b[0;34m)\u001b[0m\u001b[0;34m\u001b[0m\u001b[0m\n\u001b[0m\u001b[1;32m      8\u001b[0m \u001b[0;34m\u001b[0m\u001b[0m\n\u001b[1;32m      9\u001b[0m     \u001b[0;31m#plt.scatter(a_walk, b_walk)\u001b[0m\u001b[0;34m\u001b[0m\u001b[0;34m\u001b[0m\u001b[0m\n",
        "\u001b[0;32m<ipython-input-11-b944524b3e74>\u001b[0m in \u001b[0;36mfindLin\u001b[0;34m(y_obs)\u001b[0m\n\u001b[1;32m     23\u001b[0m \u001b[0;34m\u001b[0m\u001b[0m\n\u001b[1;32m     24\u001b[0m         \u001b[0ml_prime\u001b[0m \u001b[0;34m=\u001b[0m \u001b[0mlikelihood\u001b[0m\u001b[0;34m(\u001b[0m\u001b[0my_obs\u001b[0m\u001b[0;34m,\u001b[0m \u001b[0my_prime\u001b[0m\u001b[0;34m)\u001b[0m\u001b[0;34m\u001b[0m\u001b[0m\n\u001b[0;32m---> 25\u001b[0;31m         \u001b[0ml_init\u001b[0m \u001b[0;34m=\u001b[0m \u001b[0mlikelihood\u001b[0m\u001b[0;34m(\u001b[0m\u001b[0my_obs\u001b[0m\u001b[0;34m,\u001b[0m \u001b[0my_init\u001b[0m\u001b[0;34m)\u001b[0m\u001b[0;34m\u001b[0m\u001b[0m\n\u001b[0m\u001b[1;32m     26\u001b[0m \u001b[0;34m\u001b[0m\u001b[0m\n\u001b[1;32m     27\u001b[0m         \u001b[0malpha\u001b[0m \u001b[0;34m=\u001b[0m \u001b[0ml_prime\u001b[0m\u001b[0;34m/\u001b[0m\u001b[0ml_init\u001b[0m\u001b[0;34m\u001b[0m\u001b[0m\n",
        "\u001b[0;32m<ipython-input-7-49a5a25a18bc>\u001b[0m in \u001b[0;36mlikelihood\u001b[0;34m(y_obs, y_model)\u001b[0m\n\u001b[1;32m      1\u001b[0m \u001b[0;34m\u001b[0m\u001b[0m\n\u001b[1;32m      2\u001b[0m \u001b[0;32mdef\u001b[0m \u001b[0mlikelihood\u001b[0m\u001b[0;34m(\u001b[0m\u001b[0my_obs\u001b[0m\u001b[0;34m,\u001b[0m \u001b[0my_model\u001b[0m\u001b[0;34m)\u001b[0m\u001b[0;34m:\u001b[0m\u001b[0;34m\u001b[0m\u001b[0m\n\u001b[0;32m----> 3\u001b[0;31m     \u001b[0mchi_squared\u001b[0m \u001b[0;34m=\u001b[0m \u001b[0;34m(\u001b[0m\u001b[0;36m1.0\u001b[0m\u001b[0;34m/\u001b[0m\u001b[0;36m2.0\u001b[0m\u001b[0;34m)\u001b[0m\u001b[0;34m*\u001b[0m\u001b[0msum\u001b[0m\u001b[0;34m(\u001b[0m\u001b[0;34m(\u001b[0m\u001b[0my_obs\u001b[0m\u001b[0;34m-\u001b[0m\u001b[0my_model\u001b[0m\u001b[0;34m)\u001b[0m\u001b[0;34m**\u001b[0m\u001b[0;36m2\u001b[0m\u001b[0;34m)\u001b[0m\u001b[0;34m*\u001b[0m\u001b[0;36m10\u001b[0m\u001b[0;34m**\u001b[0m\u001b[0;34m(\u001b[0m\u001b[0;34m-\u001b[0m\u001b[0;36m5\u001b[0m\u001b[0;34m)\u001b[0m\u001b[0;34m\u001b[0m\u001b[0m\n\u001b[0m\u001b[1;32m      4\u001b[0m     \u001b[0;32mreturn\u001b[0m \u001b[0mnp\u001b[0m\u001b[0;34m.\u001b[0m\u001b[0mexp\u001b[0m\u001b[0;34m(\u001b[0m\u001b[0;34m-\u001b[0m\u001b[0mchi_squared\u001b[0m\u001b[0;34m)\u001b[0m\u001b[0;34m\u001b[0m\u001b[0m\n",
        "\u001b[0;31mKeyboardInterrupt\u001b[0m: "
       ]
      }
     ],
     "prompt_number": 14
    },
    {
     "cell_type": "code",
     "collapsed": false,
     "input": [
      "len(np.delete(data[1:,0,0],-1))"
     ],
     "language": "python",
     "metadata": {},
     "outputs": [
      {
       "metadata": {},
       "output_type": "pyout",
       "prompt_number": 36,
       "text": [
        "205"
       ]
      }
     ],
     "prompt_number": 36
    },
    {
     "cell_type": "code",
     "collapsed": false,
     "input": [
      "#Es el analogo a findLin para la exponencial\n",
      "def findExp(y_obs):\n",
      "    c_walk = np.empty((0)) #this is an empty list to keep all the steps\n",
      "    d_walk = np.empty((0))\n",
      "    nu_walk = np.empty((0))\n",
      "    sigma_walk = np.empty((0))\n",
      "    \n",
      "    l_walk = np.empty((0))\n",
      "    \n",
      "    c_walk = np.append(c_walk, np.random.random()*100 -50)\n",
      "    d_walk = np.append(d_walk, np.random.random()*1 -0.5)\n",
      "    nu_walk = np.append(nu_walk, np.random.random() + 100)\n",
      "    sigma_walk = np.append(sigma_walk, np.random.random()*0.005 )\n",
      "    \n",
      "    y_init = expo(tiempos, c_walk[0], d_walk[0], nu_walk[0],sigma_walk[0])\n",
      "    l_walk = np.append(l_walk, likelihood(y_obs, y_init))\n",
      "    \n",
      "    \n",
      "    for i in range(n_iterations):\n",
      "        c_prime = np.random.normal(c_walk[-1], 2) \n",
      "        d_prime = np.random.normal(d_walk[-1], 0.1)\n",
      "        nu_prime = np.random.normal(nu_walk[-1], 3) \n",
      "        sigma_prime = np.random.normal(sigma_walk[-1], 0.002)\n",
      "    \n",
      "        y_init =  expo(tiempos, c_walk[-1], d_walk[-1],nu_walk[-1] ,sigma_walk[-1])\n",
      "        y_prime = expo(tiempos, c_prime, d_prime, nu_prime, sigma_prime)\n",
      "        \n",
      "        l_prime = likelihood(y_obs, y_prime)\n",
      "        l_init = likelihood(y_obs, y_init)\n",
      "        \n",
      "        alpha = l_prime/l_init\n",
      "        if(alpha>=1.0):\n",
      "            c_walk  = np.append(c_walk,c_prime)\n",
      "            d_walk  = np.append(d_walk,d_prime)\n",
      "            nu_walk  = np.append(nu_walk,nu_prime)\n",
      "            sigma_walk  = np.append(sigma_walk,sigma_prime)\n",
      "            \n",
      "            l_walk = np.append(l_walk, l_prime)\n",
      "            \n",
      "            \n",
      "            #Eliminamos los datos que ya no necesitamos para mejorar la efectividad. Note que en este caso, el likelihood\n",
      "            #del anterior es menor que el del siguiente paso por lo que podemos eliminarlos\n",
      "            c_walk = np.delete(c_walk, -2)\n",
      "            d_walk = np.delete(d_walk, -2)\n",
      "            nu_walk = np.delete(nu_walk, -2)\n",
      "            sigma_walk = np.delete(sigma_walk, -2)\n",
      "            \n",
      "            l_walk = np.delete(l_walk, -2)\n",
      "            \n",
      "        else:\n",
      "            beta = np.random.random()\n",
      "            if(beta<=alpha):\n",
      "                c_walk = np.append(c_walk,c_prime)\n",
      "                d_walk = np.append(d_walk,d_prime)\n",
      "                nu_walk = np.append(nu_walk,nu_prime)\n",
      "                sigma_walk = np.append(sigma_walk,sigma_prime)\n",
      "                \n",
      "                l_walk = np.append(l_walk, l_prime)\n",
      "    #print l_walk            \n",
      "                \n",
      "    return c_walk, d_walk ,nu_walk, sigma_walk , l_walk"
     ],
     "language": "python",
     "metadata": {},
     "outputs": [],
     "prompt_number": 81
    },
    {
     "cell_type": "code",
     "collapsed": false,
     "input": [
      "tiempos"
     ],
     "language": "python",
     "metadata": {},
     "outputs": [
      {
       "metadata": {},
       "output_type": "pyout",
       "prompt_number": 82,
       "text": [
        "array([   0.        ,    0.74999973,   10.49999532,   20.24999628,\n",
        "         29.99999713,   30.74999674,   40.4999977 ,   50.24999855,\n",
        "         59.9999994 ,   60.74999913,   70.49999998,   80.24999568,\n",
        "         89.99999653,   90.74999614,  100.49999711,  110.24999795,\n",
        "        119.9999988 ,  120.74999853,  130.49999938,  140.25000034,\n",
        "        149.99999593,  150.74999554,  160.49999651,  170.24999736,\n",
        "        172.49999641,  173.24999602,  173.99999574,  174.74999535,\n",
        "        175.50000021,  176.24999994,  176.99999954,  177.74999927,\n",
        "        178.49999887,  179.2499986 ,  179.9999982 ,  180.74999793,\n",
        "        181.49999754,  182.24999726,  182.99999687,  183.74999659,\n",
        "        184.4999962 ,  185.24999592,  185.99999553,  186.74999525,\n",
        "        187.50000012,  188.24999984,  188.99999945,  189.74999917,\n",
        "        190.49999878,  191.2499985 ,  191.99999811,  192.74999783,\n",
        "        193.49999744,  194.24999716,  194.99999677,  195.7499965 ,\n",
        "        196.4999961 ,  197.24999583,  197.99999543,  198.75000042,\n",
        "        199.50000002,  200.24999975,  200.99999935,  201.74999908,\n",
        "        202.49999868,  203.24999841,  203.99999801,  204.74999774,\n",
        "        205.49999734,  206.24999695,  206.99999667,  207.74999628,\n",
        "        208.49999601,  209.24999561,  209.99999534,  210.7500002 ,\n",
        "        211.49999993,  212.24999953,  212.99999926,  213.74999886,\n",
        "        214.49999859,  215.24999819,  215.99999792,  216.74999752,\n",
        "        217.49999725,  218.24999685,  218.99999658,  219.74999618,\n",
        "        220.49999591,  221.24999552,  221.99999524,  222.7500001 ,\n",
        "        223.49999983,  224.24999944,  224.99999916,  225.74999877,\n",
        "        226.49999849,  227.2499981 ,  227.99999782,  228.74999743,\n",
        "        229.49999715,  230.24999676,  230.99999648,  231.74999609,\n",
        "        232.49999581,  233.24999542,  234.0000004 ,  234.75000001,\n",
        "        235.49999961,  236.24999934,  236.99999894,  237.74999867,\n",
        "        238.49999828,  239.249998  ,  239.99999761,  240.74999733,\n",
        "        241.49999694,  242.24999666,  242.99999627,  243.74999599,\n",
        "        244.4999956 ,  245.24999532,  246.00000019,  246.74999991,\n",
        "        247.49999952,  248.24999924,  248.99999885,  249.74999857,\n",
        "        250.49999818,  251.2499979 ,  251.99999751,  252.74999724,\n",
        "        253.49999684,  254.24999657,  254.99999617,  255.7499959 ,\n",
        "        256.4999955 ,  257.24999523,  258.00000009,  258.74999982,\n",
        "        259.49999942,  260.24999915,  260.99999875,  261.74999848,\n",
        "        262.49999808,  263.24999781,  263.99999741,  264.74999702,\n",
        "        265.49999675,  266.24999635,  266.99999608,  267.74999568,\n",
        "        268.49999541,  269.25000027,  270.        ,  270.7499996 ,\n",
        "        271.49999933,  272.24999893,  272.99999866,  273.74999826,\n",
        "        274.49999799,  275.24999759,  275.99999732,  276.74999692,\n",
        "        277.49999665,  278.24999626,  278.99999598,  279.74999559,\n",
        "        280.49999531,  281.25000018,  281.9999999 ,  282.74999951,\n",
        "        283.49999923,  284.24999884,  284.99999856,  285.74999817,\n",
        "        286.49999789,  287.2499975 ,  287.99999722,  288.74999683,\n",
        "        289.49999655,  290.24999616,  290.99999588,  291.74999549,\n",
        "        301.49999634,  311.24999731,  320.99999815,  331.49999873,\n",
        "        341.24999958,  350.99999529,  360.7666629 ,  361.51666251,\n",
        "        371.26666348,  381.01666433,  390.76666517,  391.5166649 ,\n",
        "        401.26666575,  411.01666672,  420.76666231,  421.51666191,\n",
        "        431.26666288,  441.01666373,  450.76666458,  451.5166643 ,\n",
        "        461.26666515,  471.01666612])"
       ]
      }
     ],
     "prompt_number": 82
    },
    {
     "cell_type": "code",
     "collapsed": false,
     "input": [
      "\n",
      "#Los comentarios que se muestran abajo son codigos usados para graficar los datos y verificar su veracidad\n",
      "\n",
      "#La siguiente funcion invoca findLin y halla el mejor a y b.\n",
      "#Recibe los datos del punto a observar\n",
      "def hallarMinExp(y_obs):\n",
      "    c_walk, d_walk, nu_walk, sigma_walk, l_walk = findExp(y_obs)\n",
      "    \n",
      "    plt.scatter(c_walk, sigma_walk)    \n",
      "    plt.show()\n",
      "    \n",
      "    plt.scatter(c_walk, -np.log(l_walk))\n",
      "    plt.show()\n",
      "    \n",
      "    max_likelihood = np.argmax(l_walk)\n",
      "    best_l = l_walk[max_likelihood]\n",
      "    best_c = c_walk[max_likelihood]\n",
      "    best_d = d_walk[max_likelihood]\n",
      "    best_nu = nu_walk[max_likelihood]\n",
      "    best_sigma = sigma_walk[max_likelihood]\n",
      "    \n",
      "    \n",
      "    plt.plot(tiempos,y_obs,'b' , tiempos, expo(tiempos, best_c, best_d,best_nu, best_sigma),'r'  )\n",
      "    plt.show()\n",
      "    return best_c, best_d, best_nu, best_sigma, best_l"
     ],
     "language": "python",
     "metadata": {},
     "outputs": [],
     "prompt_number": 83
    },
    {
     "cell_type": "code",
     "collapsed": false,
     "input": [
      "hallarMinExp(data[1:,3,9])"
     ],
     "language": "python",
     "metadata": {},
     "outputs": [],
     "prompt_number": "*"
    },
    {
     "cell_type": "code",
     "collapsed": false,
     "input": [
      "fh = open('exponencial.dat', 'w')\n",
      "fh.write('X'+ '\\t'+ 'Y' + '\\t' + ' c'+'\\t'+' c'+'\\t'+ 'nu'+'\\t'+'sigma'+'Likelihood' + '\\n')\n",
      "for i in range(0,10):\n",
      "    for j in range(0,10):\n",
      "        bestc, bestd, bestnu, bestsigma, bestl = hallarMinExp(data[1:,i,j])\n",
      "        fh.write(repr(i)+ '\\t'+ repr(j) + '\\t' + repr(bestc)+'\\t'+repr(bestd)+'\\t'+repr(bestnu)+'\\t'+repr(bestsigma)+'\\t'+repr(bestl) + '\\n')\n",
      "fh.close()    "
     ],
     "language": "python",
     "metadata": {},
     "outputs": [],
     "prompt_number": 39
    },
    {
     "cell_type": "code",
     "collapsed": false,
     "input": [],
     "language": "python",
     "metadata": {},
     "outputs": []
    },
    {
     "cell_type": "code",
     "collapsed": false,
     "input": [
      "#Es el analogo a findlin para la tangente\n",
      "def findTan(y_obs):\n",
      "    f_walk = np.empty((0)) #this is an empty list to keep all the steps\n",
      "    g_walk = np.empty((0))\n",
      "    h_walk = np.empty((0))\n",
      "    n_walk = np.empty((0))\n",
      "    t0_walk = np.empty((0))\n",
      "    l_walk = np.empty((0))\n",
      "    \n",
      "    f_walk = np.append(f_walk, np.random.random()*100 -50)\n",
      "    g_walk = np.append(g_walk, np.random.random()*1 -0.5)\n",
      "    h_walk = np.append(h_walk, np.random.random()*200 - 100)\n",
      "    n_walk = np.append(n_walk, np.random.random()*100)\n",
      "    t0_walk = np.append(t0_walk, np.random.random()*300 +80)\n",
      "    \n",
      "    y_init = tan(tiempos, f_walk[0], g_walk[0], h_walk[0],n_walk[0],t0_walk[0])\n",
      "    l_walk = np.append(l_walk, likelihood(y_obs, y_init))\n",
      "    \n",
      "    \n",
      "    for i in range(n_iterations):\n",
      "        f_prime = np.random.normal(f_walk[-1], 1) \n",
      "        g_prime = np.random.normal(g_walk[-1], 0.1)\n",
      "        h_prime = np.random.normal(h_walk[-1], 2) \n",
      "        n_prime = np.random.normal(n_walk[-1], 1)\n",
      "        t0_prime = np.random.normal(t0_walk[-1], 5)\n",
      "    \n",
      "        y_init =  tan(tiempos, f_walk[-1], g_walk[-1],h_walk[-1] ,n_walk[-1],t0_walk[-1])\n",
      "        y_prime = tan(tiempos, f_prime, g_prime, h_prime, n_prime,t0_prime)\n",
      "        \n",
      "        l_prime = likelihood(y_obs, y_prime)\n",
      "        l_init = likelihood(y_obs, y_init)\n",
      "        \n",
      "        alpha = l_prime/l_init\n",
      "        if(alpha>=1.0):\n",
      "            f_walk  = np.append(f_walk,f_prime)\n",
      "            g_walk  = np.append(g_walk,g_prime)\n",
      "            h_walk  = np.append(h_walk,h_prime)\n",
      "            n_walk  = np.append(n_walk,n_prime)\n",
      "            t0_walk  = np.append(t0_walk,t0_prime)\n",
      "            \n",
      "            l_walk = np.append(l_walk, l_prime)\n",
      "            \n",
      "            \n",
      "            #Eliminamos los datos que ya no necesitamos para mejorar la efectividad. Note que en este caso, el likelihood\n",
      "            #del anterior es menor que el del siguiente paso por lo que podemos eliminarlos\n",
      "            f_walk = np.delete(f_walk, -2)\n",
      "            g_walk = np.delete(g_walk, -2)\n",
      "            h_walk = np.delete(h_walk, -2)\n",
      "            n_walk = np.delete(n_walk, -2)\n",
      "            t0_walk = np.delete(t0_walk, -2)\n",
      "            \n",
      "            l_walk = np.delete(l_walk, -2)\n",
      "            \n",
      "        else:\n",
      "            beta = np.random.random()\n",
      "            if(beta<=alpha):\n",
      "                f_walk = np.append(f_walk,f_prime)\n",
      "                g_walk = np.append(g_walk,g_prime)\n",
      "                h_walk = np.append(h_walk,h_prime)\n",
      "                n_walk = np.append(n_walk,n_prime)\n",
      "                t0_walk = np.append(t0_walk,t0_prime)\n",
      "                \n",
      "                l_walk = np.append(l_walk, l_prime)\n",
      "    #print l_walk            \n",
      "                \n",
      "    return f_walk, g_walk ,h_walk, n_walk , t0_walk, l_walk"
     ],
     "language": "python",
     "metadata": {},
     "outputs": [],
     "prompt_number": 53
    },
    {
     "cell_type": "code",
     "collapsed": false,
     "input": [
      "\n",
      "#Los comentarios que se muestran abajo son codigos usados para graficar los datos y verificar su veracidad\n",
      "\n",
      "#La siguiente funcion invoca findLin y halla el mejor a y b.\n",
      "#Recibe los datos del punto a observar\n",
      "def hallarMinTan(y_obs):\n",
      "    f_walk, g_walk, h_walk, n_walk, t0_walk, l_walk = findTan(y_obs)\n",
      "    \n",
      "    #plt.scatter(f_walk, g_walk)    \n",
      "    #plt.show()\n",
      "    \n",
      "    #plt.scatter(f_walk, -np.log(l_walk))\n",
      "    #plt.show()\n",
      "    \n",
      "    max_likelihood = np.argmax(l_walk)\n",
      "    best_l = l_walk[max_likelihood]\n",
      "    best_f = f_walk[max_likelihood]\n",
      "    best_g = g_walk[max_likelihood]\n",
      "    best_h = h_walk[max_likelihood]\n",
      "    best_n = n_walk[max_likelihood]\n",
      "    best_t0 = t0_walk[max_likelihood]\n",
      "    \n",
      "    #plt.plot(tiempos,y_obs,'b' , tiempos, tan(tiempos, best_f, best_g,best_h, best_n, best_t0),'r'  )\n",
      "    #plt.show()\n",
      "    return best_f, best_g, best_h, best_n, best_t0 , best_l"
     ],
     "language": "python",
     "metadata": {},
     "outputs": [],
     "prompt_number": 58
    },
    {
     "cell_type": "code",
     "collapsed": false,
     "input": [
      "hallarMinTan(data[1:,3,3])"
     ],
     "language": "python",
     "metadata": {},
     "outputs": [
      {
       "ename": "NameError",
       "evalue": "name 'hallarMinTan' is not defined",
       "output_type": "pyerr",
       "traceback": [
        "\u001b[0;31m---------------------------------------------------------------------------\u001b[0m\n\u001b[0;31mNameError\u001b[0m                                 Traceback (most recent call last)",
        "\u001b[0;32m<ipython-input-22-a335d70b3485>\u001b[0m in \u001b[0;36m<module>\u001b[0;34m()\u001b[0m\n\u001b[0;32m----> 1\u001b[0;31m \u001b[0mhallarMinTan\u001b[0m\u001b[0;34m(\u001b[0m\u001b[0mdata\u001b[0m\u001b[0;34m[\u001b[0m\u001b[0;36m1\u001b[0m\u001b[0;34m:\u001b[0m\u001b[0;34m,\u001b[0m\u001b[0;36m3\u001b[0m\u001b[0;34m,\u001b[0m\u001b[0;36m6\u001b[0m\u001b[0;34m]\u001b[0m\u001b[0;34m)\u001b[0m\u001b[0;34m\u001b[0m\u001b[0m\n\u001b[0m",
        "\u001b[0;31mNameError\u001b[0m: name 'hallarMinTan' is not defined"
       ]
      }
     ],
     "prompt_number": 22
    },
    {
     "cell_type": "code",
     "collapsed": false,
     "input": [
      "fh = open('tangente.dat', 'w')\n",
      "fh.write('X'+ '\\t'+ 'Y' + '\\t' + ' f'+'\\t'+' g'+'\\t'+ 'h'+'\\t'+'n'+'\\t'+'t0'+'\\t'+'Likelihood' + '\\n')\n",
      "for i in range(0,10):\n",
      "    for j in range(0,10):\n",
      "        bestf, bestg, besth, bestn, bestt0, bestl = hallarMinTan(data[1:,i,j])\n",
      "        fh.write(repr(i)+ '\\t'+ repr(j) + '\\t' + repr(bestf)+'\\t'+repr(bestg)+'\\t'+repr(besth)+'\\t'+repr(bestn)+'\\t'+repr(bestt0)+'\\t'+repr(bestl) + '\\n')\n",
      "fh.close()    "
     ],
     "language": "python",
     "metadata": {},
     "outputs": [],
     "prompt_number": 60
    },
    {
     "cell_type": "code",
     "collapsed": false,
     "input": [],
     "language": "python",
     "metadata": {},
     "outputs": []
    }
   ],
   "metadata": {}
  }
 ]
}