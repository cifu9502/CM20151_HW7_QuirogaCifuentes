{
 "metadata": {
  "name": ""
 },
 "nbformat": 3,
 "nbformat_minor": 0,
 "worksheets": [
  {
   "cells": [
    {
     "cell_type": "code",
     "collapsed": false,
     "input": [
      "import pyfits\n",
      "import numpy as np\n",
      "import matplotlib.pyplot as plt\n",
      "from __future__ import division \n",
      "s = \"hmi.m_45s.magnetogram.subregion_x1y1.fits\"\n",
      "n_iterations = 20000 #this is the number of iterations I want to make\n"
     ],
     "language": "python",
     "metadata": {},
     "outputs": [],
     "prompt_number": 1
    },
    {
     "cell_type": "code",
     "collapsed": false,
     "input": [
      "pyfits.info(s)"
     ],
     "language": "python",
     "metadata": {},
     "outputs": [
      {
       "output_type": "stream",
       "stream": "stdout",
       "text": [
        "Filename: hmi.m_45s.magnetogram.subregion_x1y1.fits\n",
        "No.    Name         Type      Cards   Dimensions   Format\n",
        "0    PRIMARY     PrimaryHDU     121   (398, 199, 207)   float32   \n"
       ]
      }
     ],
     "prompt_number": 2
    },
    {
     "cell_type": "code",
     "collapsed": false,
     "input": [
      " #Se obtienen los datose\n",
      "data = pyfits.getdata(s,0)\n",
      "data.shape"
     ],
     "language": "python",
     "metadata": {},
     "outputs": [
      {
       "metadata": {},
       "output_type": "pyout",
       "prompt_number": 3,
       "text": [
        "(207, 199, 398)"
       ]
      }
     ],
     "prompt_number": 3
    },
    {
     "cell_type": "code",
     "collapsed": false,
     "input": [
      "#Se grafica la linea de tiempo\n",
      "test = data[:,138,241]\n",
      "x = np.linspace(0, 397, 398)\n",
      "y = np.linspace(0, 198, 199)\n",
      "z = np.linspace(0, 206, 207)\n",
      "plt.plot(z, test)\n",
      "plt.show()"
     ],
     "language": "python",
     "metadata": {},
     "outputs": [],
     "prompt_number": 4
    },
    {
     "cell_type": "code",
     "collapsed": false,
     "input": [
      "#Se lee el archivo tiempos.csv que trae la distribucion de los tiempos\n",
      "s = 'tiempos.csv'\n",
      "infile = open(s, 'r')\n",
      "tiempos = []\n",
      "text = infile.readlines()\n",
      "for x in text[1:]:\n",
      "    #parte el texto x segun ','\n",
      "    a = x.split(',')\n",
      "    a = a[1].split('\\n')\n",
      "    tiempos.append(float(a[0]))\n",
      "tiempos = np.array(tiempos)\n",
      "\n",
      "#Se convierte el tiempo a minutos\n",
      "tiempos = (tiempos-tiempos[0])*525600\n",
      "\n"
     ],
     "language": "python",
     "metadata": {},
     "outputs": [],
     "prompt_number": 5
    },
    {
     "cell_type": "code",
     "collapsed": false,
     "input": [
      "plt.plot(tiempos,data[1:,3,3])\n",
      "\n",
      "plt.show()"
     ],
     "language": "python",
     "metadata": {},
     "outputs": [],
     "prompt_number": 6
    },
    {
     "cell_type": "code",
     "collapsed": false,
     "input": [
      "\n",
      "def likelihood(y_obs, y_model):\n",
      "    chi_squared = (1.0/2.0)*sum((y_obs-y_model)**2)*10**(-5)\n",
      "    return np.exp(-chi_squared)"
     ],
     "language": "python",
     "metadata": {},
     "outputs": [],
     "prompt_number": 7
    },
    {
     "cell_type": "code",
     "collapsed": false,
     "input": [
      "\n",
      "def lin(x_obs, a, b):\n",
      "    return x_obs*b + a"
     ],
     "language": "python",
     "metadata": {},
     "outputs": [],
     "prompt_number": 8
    },
    {
     "cell_type": "code",
     "collapsed": false,
     "input": [
      "def expo(x_obs, c, d, nu , sigma):\n",
      "    if sigma <= 0:\n",
      "        result = -10000\n",
      "    else:    \n",
      "        result = c +  x_obs*d + (1/((sigma*np.pi)**(0.5)))*np.exp(-((x_obs -nu)/sigma)**2 /2)\n",
      "    return result"
     ],
     "language": "python",
     "metadata": {},
     "outputs": [],
     "prompt_number": 9
    },
    {
     "cell_type": "code",
     "collapsed": false,
     "input": [
      "def tan(x_obs, f, g,h,n,t0):\n",
      "    return f+ x_obs*g + h*(1+(2/np.pi)*np.arctan(n*(x_obs -t0)))"
     ],
     "language": "python",
     "metadata": {},
     "outputs": [],
     "prompt_number": 10
    },
    {
     "cell_type": "code",
     "collapsed": false,
     "input": [
      "#El siguiente codigo realiza el proceso de cadenas de markov para encontrar el mejor ajuste al caso lineal.\n",
      "#El codigo usado es parecido al dado como muestra en clase , a excepcion de unas peque\u00f1as modificaciones\n",
      "\n",
      "#input y_obs -- datos del punto a observar\n",
      "def findLin(y_obs):\n",
      "    a_walk = np.empty((0)) #this is an empty list to keep all the steps\n",
      "    b_walk = np.empty((0))\n",
      "    l_walk = np.empty((0))\n",
      "    \n",
      "    a_walk = np.append(a_walk, np.random.random()*100 -50)\n",
      "    b_walk = np.append(b_walk, np.random.random()*1 -0.5)\n",
      "    \n",
      "    y_init = lin(tiempos, a_walk[0], b_walk[0])\n",
      "    l_walk = np.append(l_walk, likelihood(y_obs, y_init))\n",
      "    \n",
      "    \n",
      "    for i in range(n_iterations):\n",
      "        a_prime = np.random.normal(a_walk[-1], 1) \n",
      "        b_prime = np.random.normal(b_walk[-1], 0.1)\n",
      "    \n",
      "        y_init = lin(tiempos, a_walk[-1], b_walk[-1])\n",
      "        y_prime = lin(tiempos, a_prime, b_prime)\n",
      "        \n",
      "        l_prime = likelihood(y_obs, y_prime)\n",
      "        l_init = likelihood(y_obs, y_init)\n",
      "        \n",
      "        alpha = l_prime/l_init\n",
      "        if(alpha>=1.0):\n",
      "            a_walk  = np.append(a_walk,a_prime)\n",
      "            b_walk  = np.append(b_walk,b_prime)\n",
      "            l_walk = np.append(l_walk, l_prime)\n",
      "            #Eliminamos los datos que ya no necesitamos para mejorar la efectividad. Note que en este caso, el likelihood\n",
      "            #del anterior es menor que el del siguiente paso por lo que podemos e\n",
      "            a_walk = np.delete(a_walk, -2)\n",
      "            b_walk = np.delete(b_walk, -2)\n",
      "            l_walk = np.delete(l_walk, -2)\n",
      "            \n",
      "        else:\n",
      "            beta = np.random.random()\n",
      "            if(beta<=alpha):\n",
      "                a_walk = np.append(a_walk,a_prime)\n",
      "                b_walk = np.append(b_walk,b_prime)\n",
      "                l_walk = np.append(l_walk, l_prime)\n",
      "                \n",
      "    return a_walk, b_walk , l_walk\n"
     ],
     "language": "python",
     "metadata": {},
     "outputs": [],
     "prompt_number": 11
    },
    {
     "cell_type": "code",
     "collapsed": false,
     "input": [
      "\n",
      "#Los comentarios que se muestran abajo son codigos usados para graficar los datos y verificar su veracidad\n",
      "\n",
      "#La siguiente funcion invoca findLin y halla el mejor a y b.\n",
      "#Recibe los datos del punto a observar\n",
      "def hallarMins(y_obs):\n",
      "    a_walk, b_walk, l_walk = findLin(y_obs)\n",
      "    \n",
      "    #plt.scatter(a_walk, b_walk)    \n",
      "    #plt.show()\n",
      "    \n",
      "    #plt.scatter(a_walk, -np.log(l_walk))\n",
      "    #plt.show()\n",
      "    \n",
      "    max_likelihood = np.argmax(l_walk)\n",
      "    best_l = l_walk[max_likelihood]\n",
      "    best_a = a_walk[max_likelihood]\n",
      "    best_b = b_walk[max_likelihood]\n",
      "    \n",
      "    #plt.plot(tiempos,y_obs,'b' , tiempos, lin(tiempos, best_a, best_b),'r'  )\n",
      "    #plt.show()\n",
      "    return best_a, best_b, best_l"
     ],
     "language": "python",
     "metadata": {},
     "outputs": [],
     "prompt_number": 12
    },
    {
     "cell_type": "code",
     "collapsed": false,
     "input": [
      "hallarMins(data[1:,3,3])"
     ],
     "language": "python",
     "metadata": {},
     "outputs": [
      {
       "metadata": {},
       "output_type": "pyout",
       "prompt_number": 13,
       "text": [
        "(39.110599960846159, -0.053496774092123653, 0.95620042009861839)"
       ]
      }
     ],
     "prompt_number": 13
    },
    {
     "cell_type": "code",
     "collapsed": false,
     "input": [
      "fh = open('lineal.dat', 'w')\n",
      "fh.write('X'+ '\\t'+ 'Y' + '\\t' + ' a'+'\\t'+' b'+'\\t'+ 'Likelihood' + '\\n')\n",
      "for i in range(0,10):\n",
      "    for j in range(0,10):\n",
      "        besta, bestb, bestl = hallarMins(data[1:,i,j])\n",
      "        fh.write(repr(i)+ '\\t'+ repr(j) + '\\t' + repr(besta)+'\\t'+repr(bestb)+'\\t'+repr(bestl) + '\\n')\n",
      "fh.close()       "
     ],
     "language": "python",
     "metadata": {},
     "outputs": [],
     "prompt_number": 168
    },
    {
     "cell_type": "code",
     "collapsed": false,
     "input": [
      "len(np.delete(data[1:,0,0],-1))"
     ],
     "language": "python",
     "metadata": {},
     "outputs": [
      {
       "metadata": {},
       "output_type": "pyout",
       "prompt_number": 36,
       "text": [
        "205"
       ]
      }
     ],
     "prompt_number": 36
    },
    {
     "cell_type": "code",
     "collapsed": false,
     "input": [
      "#Es el analogo a findLin para la exponencial\n",
      "def findExp(y_obs):\n",
      "    c_walk = np.empty((0)) #this is an empty list to keep all the steps\n",
      "    d_walk = np.empty((0))\n",
      "    nu_walk = np.empty((0))\n",
      "    sigma_walk = np.empty((0))\n",
      "    \n",
      "    l_walk = np.empty((0))\n",
      "    \n",
      "    c_walk = np.append(c_walk, np.random.random()*100 -50)\n",
      "    d_walk = np.append(d_walk, np.random.random()*1 -0.5)\n",
      "    nu_walk = np.append(nu_walk, np.random.random() + 100)\n",
      "    sigma_walk = np.append(sigma_walk, np.random.random() +150)\n",
      "    \n",
      "    y_init = expo(tiempos, c_walk[0], d_walk[0], nu_walk[0],sigma_walk[0])\n",
      "    l_walk = np.append(l_walk, likelihood(y_obs, y_init))\n",
      "    \n",
      "    \n",
      "    for i in range(n_iterations):\n",
      "        c_prime = np.random.normal(c_walk[-1], 1) \n",
      "        d_prime = np.random.normal(d_walk[-1], 0.1)\n",
      "        nu_prime = np.random.normal(nu_walk[-1], 2) \n",
      "        sigma_prime = np.random.normal(sigma_walk[-1], 1)\n",
      "    \n",
      "        y_init =  expo(tiempos, c_walk[-1], d_walk[-1],nu_walk[-1] ,sigma_walk[-1])\n",
      "        y_prime = expo(tiempos, c_prime, d_prime, nu_prime, sigma_prime)\n",
      "        \n",
      "        l_prime = likelihood(y_obs, y_prime)\n",
      "        l_init = likelihood(y_obs, y_init)\n",
      "        \n",
      "        alpha = l_prime/l_init\n",
      "        if(alpha>=1.0):\n",
      "            c_walk  = np.append(c_walk,c_prime)\n",
      "            d_walk  = np.append(d_walk,d_prime)\n",
      "            nu_walk  = np.append(nu_walk,nu_prime)\n",
      "            sigma_walk  = np.append(sigma_walk,sigma_prime)\n",
      "            \n",
      "            l_walk = np.append(l_walk, l_prime)\n",
      "            \n",
      "            \n",
      "            #Eliminamos los datos que ya no necesitamos para mejorar la efectividad. Note que en este caso, el likelihood\n",
      "            #del anterior es menor que el del siguiente paso por lo que podemos eliminarlos\n",
      "            c_walk = np.delete(c_walk, -2)\n",
      "            d_walk = np.delete(d_walk, -2)\n",
      "            nu_walk = np.delete(nu_walk, -2)\n",
      "            sigma_walk = np.delete(sigma_walk, -2)\n",
      "            \n",
      "            l_walk = np.delete(l_walk, -2)\n",
      "            \n",
      "        else:\n",
      "            beta = np.random.random()\n",
      "            if(beta<=alpha):\n",
      "                c_walk = np.append(c_walk,c_prime)\n",
      "                d_walk = np.append(d_walk,d_prime)\n",
      "                nu_walk = np.append(nu_walk,nu_prime)\n",
      "                sigma_walk = np.append(sigma_walk,sigma_prime)\n",
      "                \n",
      "                l_walk = np.append(l_walk, l_prime)\n",
      "    #print l_walk            \n",
      "                \n",
      "    return c_walk, d_walk ,nu_walk, sigma_walk , l_walk"
     ],
     "language": "python",
     "metadata": {},
     "outputs": [],
     "prompt_number": 32
    },
    {
     "cell_type": "code",
     "collapsed": false,
     "input": [
      "\n",
      "#Los comentarios que se muestran abajo son codigos usados para graficar los datos y verificar su veracidad\n",
      "\n",
      "#La siguiente funcion invoca findLin y halla el mejor a y b.\n",
      "#Recibe los datos del punto a observar\n",
      "def hallarMinExp(y_obs):\n",
      "    c_walk, d_walk, nu_walk, sigma_walk, l_walk = findExp(y_obs)\n",
      "    \n",
      "    #plt.scatter(c_walk, sigma_walk)    \n",
      "    #plt.show()\n",
      "    \n",
      "    #plt.scatter(c_walk, -np.log(l_walk))\n",
      "    #plt.show()\n",
      "    \n",
      "    max_likelihood = np.argmax(l_walk)\n",
      "    best_l = l_walk[max_likelihood]\n",
      "    best_c = c_walk[max_likelihood]\n",
      "    best_d = d_walk[max_likelihood]\n",
      "    best_nu = nu_walk[max_likelihood]\n",
      "    best_sigma = sigma_walk[max_likelihood]\n",
      "    \n",
      "    \n",
      "    #plt.plot(tiempos,y_obs,'b' , tiempos, expo(tiempos, best_c, best_d,best_nu, best_sigma),'r'  )\n",
      "    #plt.show()\n",
      "    return best_c, best_d, best_nu, best_sigma, best_l"
     ],
     "language": "python",
     "metadata": {},
     "outputs": [],
     "prompt_number": 36
    },
    {
     "cell_type": "code",
     "collapsed": false,
     "input": [
      "hallarMinExp(data[1:,3,3])"
     ],
     "language": "python",
     "metadata": {},
     "outputs": [
      {
       "metadata": {},
       "output_type": "pyout",
       "prompt_number": 37,
       "text": [
        "(39.955529841503903,\n",
        " -0.057811820847105719,\n",
        " 178.44702459965217,\n",
        " 143.68554504377016,\n",
        " 0.95617477828281872)"
       ]
      }
     ],
     "prompt_number": 37
    },
    {
     "cell_type": "code",
     "collapsed": false,
     "input": [
      "fh = open('exponencial.dat', 'w')\n",
      "fh.write('X'+ '\\t'+ 'Y' + '\\t' + ' c'+'\\t'+' c'+'\\t'+ 'nu'+'\\t'+'sigma'+'Likelihood' + '\\n')\n",
      "for i in range(0,10):\n",
      "    for j in range(0,10):\n",
      "        bestc, bestd, bestnu, bestsigma, bestl = hallarMinExp(data[1:,i,j])\n",
      "        fh.write(repr(i)+ '\\t'+ repr(j) + '\\t' + repr(bestc)+'\\t'+repr(bestd)+'\\t'+repr(bestnu)+'\\t'+repr(bestsigma)+'\\t'+repr(bestl) + '\\n')\n",
      "fh.close()    "
     ],
     "language": "python",
     "metadata": {},
     "outputs": [],
     "prompt_number": 39
    },
    {
     "cell_type": "code",
     "collapsed": false,
     "input": [],
     "language": "python",
     "metadata": {},
     "outputs": []
    },
    {
     "cell_type": "code",
     "collapsed": false,
     "input": [
      "#Es el analogo a findlin para la tangente\n",
      "def findTan(y_obs):\n",
      "    f_walk = np.empty((0)) #this is an empty list to keep all the steps\n",
      "    g_walk = np.empty((0))\n",
      "    h_walk = np.empty((0))\n",
      "    n_walk = np.empty((0))\n",
      "    t0_walk = np.empty((0))\n",
      "    l_walk = np.empty((0))\n",
      "    \n",
      "    f_walk = np.append(f_walk, np.random.random()*100 -50)\n",
      "    g_walk = np.append(g_walk, np.random.random()*1 -0.5)\n",
      "    h_walk = np.append(h_walk, np.random.random()*200 - 100)\n",
      "    n_walk = np.append(n_walk, np.random.random()*100)\n",
      "    t0_walk = np.append(t0_walk, np.random.random()*300 +80)\n",
      "    \n",
      "    y_init = tan(tiempos, f_walk[0], g_walk[0], h_walk[0],n_walk[0],t0_walk[0])\n",
      "    l_walk = np.append(l_walk, likelihood(y_obs, y_init))\n",
      "    \n",
      "    \n",
      "    for i in range(n_iterations):\n",
      "        f_prime = np.random.normal(f_walk[-1], 1) \n",
      "        g_prime = np.random.normal(g_walk[-1], 0.1)\n",
      "        h_prime = np.random.normal(h_walk[-1], 2) \n",
      "        n_prime = np.random.normal(n_walk[-1], 1)\n",
      "        t0_prime = np.random.normal(t0_walk[-1], 5)\n",
      "    \n",
      "        y_init =  tan(tiempos, f_walk[-1], g_walk[-1],h_walk[-1] ,n_walk[-1],t0_walk[-1])\n",
      "        y_prime = tan(tiempos, f_prime, g_prime, h_prime, n_prime,t0_prime)\n",
      "        \n",
      "        l_prime = likelihood(y_obs, y_prime)\n",
      "        l_init = likelihood(y_obs, y_init)\n",
      "        \n",
      "        alpha = l_prime/l_init\n",
      "        if(alpha>=1.0):\n",
      "            f_walk  = np.append(f_walk,f_prime)\n",
      "            g_walk  = np.append(g_walk,g_prime)\n",
      "            h_walk  = np.append(h_walk,h_prime)\n",
      "            n_walk  = np.append(n_walk,n_prime)\n",
      "            t0_walk  = np.append(t0_walk,t0_prime)\n",
      "            \n",
      "            l_walk = np.append(l_walk, l_prime)\n",
      "            \n",
      "            \n",
      "            #Eliminamos los datos que ya no necesitamos para mejorar la efectividad. Note que en este caso, el likelihood\n",
      "            #del anterior es menor que el del siguiente paso por lo que podemos eliminarlos\n",
      "            f_walk = np.delete(f_walk, -2)\n",
      "            g_walk = np.delete(g_walk, -2)\n",
      "            h_walk = np.delete(h_walk, -2)\n",
      "            n_walk = np.delete(n_walk, -2)\n",
      "            t0_walk = np.delete(t0_walk, -2)\n",
      "            \n",
      "            l_walk = np.delete(l_walk, -2)\n",
      "            \n",
      "        else:\n",
      "            beta = np.random.random()\n",
      "            if(beta<=alpha):\n",
      "                f_walk = np.append(f_walk,f_prime)\n",
      "                g_walk = np.append(g_walk,g_prime)\n",
      "                h_walk = np.append(h_walk,h_prime)\n",
      "                n_walk = np.append(n_walk,n_prime)\n",
      "                t0_walk = np.append(t0_walk,t0_prime)\n",
      "                \n",
      "                l_walk = np.append(l_walk, l_prime)\n",
      "    #print l_walk            \n",
      "                \n",
      "    return f_walk, g_walk ,h_walk, n_walk , t0_walk, l_walk"
     ],
     "language": "python",
     "metadata": {},
     "outputs": [],
     "prompt_number": 53
    },
    {
     "cell_type": "code",
     "collapsed": false,
     "input": [
      "\n",
      "#Los comentarios que se muestran abajo son codigos usados para graficar los datos y verificar su veracidad\n",
      "\n",
      "#La siguiente funcion invoca findLin y halla el mejor a y b.\n",
      "#Recibe los datos del punto a observar\n",
      "def hallarMinTan(y_obs):\n",
      "    f_walk, g_walk, h_walk, n_walk, t0_walk, l_walk = findTan(y_obs)\n",
      "    \n",
      "    #plt.scatter(f_walk, g_walk)    \n",
      "    #plt.show()\n",
      "    \n",
      "    #plt.scatter(f_walk, -np.log(l_walk))\n",
      "    #plt.show()\n",
      "    \n",
      "    max_likelihood = np.argmax(l_walk)\n",
      "    best_l = l_walk[max_likelihood]\n",
      "    best_f = f_walk[max_likelihood]\n",
      "    best_g = g_walk[max_likelihood]\n",
      "    best_h = h_walk[max_likelihood]\n",
      "    best_n = n_walk[max_likelihood]\n",
      "    best_t0 = t0_walk[max_likelihood]\n",
      "    \n",
      "    #plt.plot(tiempos,y_obs,'b' , tiempos, tan(tiempos, best_f, best_g,best_h, best_n, best_t0),'r'  )\n",
      "    #plt.show()\n",
      "    return best_f, best_g, best_h, best_n, best_t0 , best_l"
     ],
     "language": "python",
     "metadata": {},
     "outputs": [],
     "prompt_number": 58
    },
    {
     "cell_type": "code",
     "collapsed": false,
     "input": [
      "hallarMinTan(data[1:,3,3])"
     ],
     "language": "python",
     "metadata": {},
     "outputs": [
      {
       "metadata": {},
       "output_type": "pyout",
       "prompt_number": 59,
       "text": [
        "(40.199720023977669,\n",
        " -0.056400949953831117,\n",
        " -23.059360811706537,\n",
        " 101.39456559150179,\n",
        " 512.67485798213829,\n",
        " 0.95597117482958904)"
       ]
      }
     ],
     "prompt_number": 59
    },
    {
     "cell_type": "code",
     "collapsed": false,
     "input": [
      "fh = open('tangente.dat', 'w')\n",
      "fh.write('X'+ '\\t'+ 'Y' + '\\t' + ' f'+'\\t'+' g'+'\\t'+ 'h'+'\\t'+'n'+'\\t'+'t0'+'\\t'+'Likelihood' + '\\n')\n",
      "for i in range(0,10):\n",
      "    for j in range(0,10):\n",
      "        bestf, bestg, besth, bestn, bestt0, bestl = hallarMinTan(data[1:,i,j])\n",
      "        fh.write(repr(i)+ '\\t'+ repr(j) + '\\t' + repr(bestf)+'\\t'+repr(bestg)+'\\t'+repr(besth)+'\\t'+repr(bestn)+'\\t'+repr(bestt0)+'\\t'+repr(bestl) + '\\n')\n",
      "fh.close()    "
     ],
     "language": "python",
     "metadata": {},
     "outputs": [],
     "prompt_number": 60
    },
    {
     "cell_type": "code",
     "collapsed": false,
     "input": [],
     "language": "python",
     "metadata": {},
     "outputs": []
    }
   ],
   "metadata": {}
  }
 ]
}